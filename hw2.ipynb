{
 "cells": [
  {
   "cell_type": "markdown",
   "metadata": {
    "collapsed": true,
    "pycharm": {
     "name": "#%% md\n"
    }
   },
   "source": [
    "# Homework 2 (HW2)\n",
    "\n",
    "---\n",
    "By the end of this homework we expect you to be able to:\n",
    "1. Preprocess data and make it amenable to statistical analysis and machine learning models;\n",
    "2. Train and test out-of-the-box machine learning models in Python;\n",
    "3. Carry out statistical hypothesis testing;\n",
    "4. Carry out simple multivariate regression analyses;\n",
    "5. Use techniques to control for covariates;\n",
    "\n",
    "---\n",
    "\n",
    "## Important Dates\n",
    "\n",
    "- Homework release: Fri 12 Nov 2021\n",
    "- **Homework due**: Fri 26 Nov 2021, 23:59\n",
    "- Grade release: Fri 03 Dec 2021\n",
    "\n",
    "---\n",
    "\n",
    "##  Some rules\n",
    "\n",
    "1. You are allowed to use any built-in Python library that comes with Anaconda. If you want to use an external library, \n",
    "you may do so, but must justify your choice.\n",
    "2. Make sure you use the `data` folder provided in the repository in read-only mode. (Or alternatively, be sure you \n",
    "don’t change any of the files.)\n",
    "3. Be sure to provide a textual description of your thought process, the assumptions you made, the solution you \n",
    "implemented, and explanations for your answers. A notebook that only has code cells will not suffice.\n",
    "4. For questions containing the **/Discuss:/** prefix, answer not with code, but with a textual explanation\n",
    " (**in markdown**).\n",
    "5. Back up any hypotheses and claims with data, since this is an important aspect of the course.\n",
    "6. Please write all your comments in English, and use meaningful variable names in your code. Your repo should have a \n",
    "single notebook (plus the required data files) in the *master/main* branch. If there are multiple notebooks present, \n",
    "we will **not grade** anything.\n",
    "7. We will **not run your notebook for you**! Rather, we will grade it as is, which means that only the results \n",
    "contained in your evaluated code cells will be considered, and we will not see the results in unevaluated code cells. \n",
    "Thus, be sure to hand in a **fully-run and evaluated notebook**. In order to check whether everything looks as intended, you can check the rendered notebook on the GitHub website once you have pushed your solution there.\n",
    "8. In continuation to the previous point, interactive plots, such as those generated using `plotly`, should be **strictly avoided**!\n",
    "9. Make sure to print results or dataframes that confirm you have properly addressed the task.\n",
    "\n",
    "---\n",
    "\n",
    "## Context\n",
    "\n",
    "Congratulations! You have just been hired as a data scientist at *Piccardi Music,* a promising new music label created by a mysterious Italian disc jockey \"*Signor Piccardi*\". The company hired you to carry out a variety of data-related tasks, which will be explained in further detail below.\n",
    "\n",
    "---\n",
    "\n",
    "## The data\n",
    "\n",
    "For this homework you will use a dataset of 18,403 music reviews scraped from Pitchfork¹, including relevant metadata such as review author, review date, record release year, review score, and genre, along with the respective album's audio features pulled from Spotify's API. The data consists of the following columns:\n",
    "\n",
    "| Column   | Description  |\n",
    "|----------|:-------------|\n",
    "| `artist`           | The name of the artist who created the album being reviewed. |\n",
    "| `album`            | The name of the album being reviewed. |\n",
    "| `recordlabel`      | The name of the record label(s) who published the album. |\n",
    "| `releaseyear`      | The year that the album was released. |\n",
    "| `score`            | The score given to the album by the reviewer on a scale of 0.0 to 10.0. |\n",
    "| `reviewauthor`     | The name of the author who reviewed the album. |\n",
    "| `genre`            | The genre assigned to the album by Pitchfork. |\n",
    "| `reviewdate`       | The date that the review was published.  |\n",
    "| `key` | The estimated overall musical key of the track. Integers map to pitches using standard Pitch Class notation (e.g., 0 = C, 2 = D, and so on) |\n",
    "| `acousticness` | A confidence measure from 0.0 to 1.0 of whether an album is acoustic. 1.0 represents high confidencethat the album is acoustic. |\n",
    "| `danceability` | How suitable an album is for dancing based on a combination of musical elements including tempo, rhythm stability, beat strength, and overall regularity. A value of 1.0 is most danceable.\n",
    "| `energy` | A perceptual measure of intensity and activity, from 0.0 to 1.0, where 1.0 represents high energy. Metal is often high energy. |\n",
    "| `instrumentalness` | Predicts whether an album contains no vocals, from 0.0 to 1.0. The closer to 1.0, the more likely the album contains no vocals. |\n",
    "| `liveness` | Detects the presence of an audience, from 0.0 to 1.0. Scores greater than 0.8 indicate a strong likelihood the album is live. |\n",
    "| `loudness` | The overall loudness of the album in decibels (dB). |\n",
    "| `speechiness` | Measures the presence of spoken words in an album on a scale from 0.0 to 1.0. Scores higher than 0.66 indicate an album made entirely of spoken words, while scores below 0.33 indicate music and other non-speech-like elements. |\n",
    "| `valence` | A measure from 0.0 to 1.0 describing the musical positiveness conveyed by an album, where values closer to 1.0 indicate more positive sounds. |\n",
    "| `tempo` | The overall estimated tempo of an album in beats per minute (BPM). |\n",
    "\n",
    "¹Pinter, Anthony T., et al. \"P4KxSpotify: A Dataset of Pitchfork Music Reviews and Spotify Musical Features.\" Proceedings of the International AAAI Conference on Web and Social Media. Vol. 14. 2020."
   ]
  },
  {
   "cell_type": "code",
   "execution_count": 58,
   "metadata": {},
   "outputs": [],
   "source": [
    "# 'pip install yellowbrick'\n",
    "\n",
    "from yellowbrick.regressor import ResidualsPlot # move to imports cell\n",
    "# we use yellowbrick for better visualization in 3.3\n",
    "\n",
    "import math\n",
    "\n",
    "# pandas / numpy\n",
    "import pandas as pd\n",
    "import numpy as np\n",
    "\n",
    "# plotting\n",
    "import matplotlib.pyplot as plt\n",
    "import seaborn as sns\n",
    "\n",
    "# datetime operations\n",
    "from datetime import datetime\n",
    "\n",
    "# ttest, euclidean distance and standard error of the mean \n",
    "from scipy.stats import ttest_ind\n",
    "from scipy.spatial.distance import seuclidean\n",
    "from scipy.stats import sem\n",
    "\n",
    "# linear fit using statsmodels\n",
    "import statsmodels.api as sm\n",
    "import statsmodels.formula.api as smf\n",
    "\n",
    "# good ole sklearn\n",
    "from sklearn.metrics import euclidean_distances, r2_score\n",
    "from sklearn.linear_model import LinearRegression\n",
    "from sklearn.ensemble import GradientBoostingRegressor\n",
    "\n",
    "# displaying markdown strings\n",
    "from IPython.display import display, Markdown, Latex\n",
    "\n",
    "#add function for task2 \n",
    "from sklearn.model_selection import train_test_split\n",
    "\n",
    "#add function for task5\n",
    "from statsmodels.stats import diagnostic\n",
    "import scipy.stats"
   ]
  },
  {
   "cell_type": "markdown",
   "metadata": {
    "pycharm": {
     "name": "#%% md\n"
    }
   },
   "source": [
    "## Part 1: Will this album be a hit?\n",
    "\n",
    "The first project you embark on in your new job is to build a regressor to predict whether an album will be well received or not. According to *Signor Piccardi* (your boss), this algorithm may eventually be helpful in forecasting the success of albums produced by *Piccardi Music*."
   ]
  },
  {
   "cell_type": "markdown",
   "metadata": {},
   "source": [
    "**Task 1 (Initial analyses — 10 pts)**\n",
    "\n",
    "As a good data scientist, the first thing you do is to have a good look at the data that was handed to you.\n",
    "\n",
    "1. Load the data using `pandas`. Identify and remove duplicate reviews, i.e., two reviews with albums by the same band with the same name (keep the first occurrence). Print the number of rows in your dataframe.\n",
    "\n",
    "2. Plot the distribution of album release years and the average score of albums per year.\n",
    "\n",
    "3. For numerical columns, calculate the mean, median, minimum value and maximum value. Additionally, plot the distribution for all the numerical columns in a single image (possibly with multiple subplots). Your image should be at most 14 inches wide by 14 inches long.\n",
    "\n",
    "3. For categorical columns, list how many different values there are in each column. If there are less than 10 distinct values for a category, print them all. For the `genre` column, assign the value `'Other'` for albums where the value is either `'none'` or `NaN`.\n",
    "\n",
    "5. **Discuss:** This dataset was built with *found data*—i.e., the Pitchfork reviews were not made with the goal of training a machine learning model. Grounded on the previous analyses and in Pitchfork's [Wikipedia page](https://en.wikipedia.org/wiki/Pitchfork_(website)), point **three** (exactly!) ways in which this data may not be representative of music albums in general due to the way the data was collected. \n",
    "\n",
    "---"
   ]
  },
  {
   "cell_type": "code",
   "execution_count": 59,
   "metadata": {},
   "outputs": [],
   "source": [
    "#1.1.1\n",
    "\n",
    "data = pd.read_csv('data/pitchfork.csv.gz', compression='gzip')"
   ]
  },
  {
   "cell_type": "code",
   "execution_count": 60,
   "metadata": {},
   "outputs": [
    {
     "name": "stdout",
     "output_type": "stream",
     "text": [
      "Number of duplicate rows : 0\n"
     ]
    }
   ],
   "source": [
    "#1.1.2\n",
    "\n",
    "# Make a copy of the original data\n",
    "df = data.copy()\n",
    "# We check if there is in fact duplicate rows\n",
    "print('Number of duplicate rows :', (data.shape[0]- df.shape[0]))"
   ]
  },
  {
   "cell_type": "code",
   "execution_count": 61,
   "metadata": {},
   "outputs": [],
   "source": [
    "# Drop duplicates from df and keep the first row of the duplicate rows\n",
    "df.drop_duplicates(subset = ['artist','album'], keep = 'first',inplace = True) "
   ]
  },
  {
   "cell_type": "code",
   "execution_count": 62,
   "metadata": {},
   "outputs": [
    {
     "name": "stdout",
     "output_type": "stream",
     "text": [
      "Number of rows in dataframe is : 16738\n"
     ]
    }
   ],
   "source": [
    "#1.1.3\n",
    "\n",
    "# Number of rows in df\n",
    "print('Number of rows in dataframe is :', df.shape[0])"
   ]
  },
  {
   "cell_type": "code",
   "execution_count": 63,
   "metadata": {},
   "outputs": [
    {
     "data": {
      "image/png": "[encoded data removed]",
      "text/plain": [
       "<Figure size 720x576 with 1 Axes>"
      ]
     },
     "metadata": {},
     "output_type": "display_data"
    }
   ],
   "source": [
    "#1.2\n",
    "\n",
    "# Plot the distribution of album per release year.\n",
    "df['releaseyear'].plot.hist(grid=True, bins=20, rwidth=0.9,\n",
    "                   color='#607c8e',figsize=(10,8))\n",
    "plt.title('Distribution of album release year')\n",
    "plt.xlabel('Release year')\n",
    "plt.ylabel('Counts')\n",
    "plt.grid(axis='y', alpha=0.75)\n",
    "plt.show()"
   ]
  },
  {
   "cell_type": "code",
   "execution_count": 64,
   "metadata": {},
   "outputs": [
    {
     "data": {
      "image/png": "[encoded data removed]",
      "text/plain": [
       "<Figure size 576x396 with 1 Axes>"
      ]
     },
     "metadata": {},
     "output_type": "display_data"
    }
   ],
   "source": [
    "#calculate mean score per year\n",
    "average_per_year = df.groupby('releaseyear')['score'].mean()\n",
    "year = average_per_year.index[:]\n",
    "average = average_per_year.values[:]\n",
    "#plot the mean score per year\n",
    "plt.plot(year,average)\n",
    "plt.title('Average of album score per year')\n",
    "plt.xlabel('Year')\n",
    "plt.ylabel('Average score')\n",
    "plt.grid(axis='y', alpha=0.75)\n",
    "plt.show()"
   ]
  },
  {
   "cell_type": "code",
   "execution_count": 65,
   "metadata": {},
   "outputs": [],
   "source": [
    "# 1.3.1\n",
    "\n",
    "# Extra step: Change review data to pandas date time format\n",
    "df['reviewdate']= pd.to_datetime(df['reviewdate'])"
   ]
  },
  {
   "cell_type": "code",
   "execution_count": 66,
   "metadata": {},
   "outputs": [
    {
     "data": {
      "text/html": [
       "<div>\n",
       "<style scoped>\n",
       "    .dataframe tbody tr th:only-of-type {\n",
       "        vertical-align: middle;\n",
       "    }\n",
       "\n",
       "    .dataframe tbody tr th {\n",
       "        vertical-align: top;\n",
       "    }\n",
       "\n",
       "    .dataframe thead th {\n",
       "        text-align: right;\n",
       "    }\n",
       "</style>\n",
       "<table border=\"1\" class=\"dataframe\">\n",
       "  <thead>\n",
       "    <tr style=\"text-align: right;\">\n",
       "      <th></th>\n",
       "      <th>artist</th>\n",
       "      <th>album</th>\n",
       "      <th>reviewauthor</th>\n",
       "      <th>score</th>\n",
       "      <th>releaseyear</th>\n",
       "      <th>reviewdate</th>\n",
       "      <th>recordlabel</th>\n",
       "      <th>genre</th>\n",
       "      <th>danceability</th>\n",
       "      <th>energy</th>\n",
       "      <th>key</th>\n",
       "      <th>loudness</th>\n",
       "      <th>speechiness</th>\n",
       "      <th>acousticness</th>\n",
       "      <th>instrumentalness</th>\n",
       "      <th>liveness</th>\n",
       "      <th>valence</th>\n",
       "      <th>tempo</th>\n",
       "    </tr>\n",
       "  </thead>\n",
       "  <tbody>\n",
       "    <tr>\n",
       "      <th>0</th>\n",
       "      <td>Studio 1</td>\n",
       "      <td>Studio 1</td>\n",
       "      <td>Andy Battaglia</td>\n",
       "      <td>8.5</td>\n",
       "      <td>2009.0</td>\n",
       "      <td>2009-02-18</td>\n",
       "      <td>Studio</td>\n",
       "      <td>Electronic</td>\n",
       "      <td>0.511917</td>\n",
       "      <td>0.499667</td>\n",
       "      <td>5.250000</td>\n",
       "      <td>-5.626583</td>\n",
       "      <td>0.031983</td>\n",
       "      <td>0.724917</td>\n",
       "      <td>0.024493</td>\n",
       "      <td>0.165367</td>\n",
       "      <td>0.555083</td>\n",
       "      <td>101.395167</td>\n",
       "    </tr>\n",
       "    <tr>\n",
       "      <th>1</th>\n",
       "      <td>John Fahey</td>\n",
       "      <td>The Great Santa Barbara Oil Slick</td>\n",
       "      <td>Mark Richardson</td>\n",
       "      <td>8.2</td>\n",
       "      <td>2005.0</td>\n",
       "      <td>2005-02-13</td>\n",
       "      <td>Water</td>\n",
       "      <td>Folk/Country</td>\n",
       "      <td>0.369765</td>\n",
       "      <td>0.325412</td>\n",
       "      <td>4.470588</td>\n",
       "      <td>-19.153824</td>\n",
       "      <td>0.148624</td>\n",
       "      <td>0.647053</td>\n",
       "      <td>0.559133</td>\n",
       "      <td>0.527782</td>\n",
       "      <td>0.179465</td>\n",
       "      <td>107.622647</td>\n",
       "    </tr>\n",
       "    <tr>\n",
       "      <th>2</th>\n",
       "      <td>Reigning Sound</td>\n",
       "      <td>Too Much Guitar</td>\n",
       "      <td>Stephen M. Deusner</td>\n",
       "      <td>8.3</td>\n",
       "      <td>2004.0</td>\n",
       "      <td>2004-08-19</td>\n",
       "      <td>In the Red</td>\n",
       "      <td>Electronic</td>\n",
       "      <td>0.253943</td>\n",
       "      <td>0.912857</td>\n",
       "      <td>4.428571</td>\n",
       "      <td>-1.089500</td>\n",
       "      <td>0.055500</td>\n",
       "      <td>0.000253</td>\n",
       "      <td>0.751214</td>\n",
       "      <td>0.199071</td>\n",
       "      <td>0.552786</td>\n",
       "      <td>133.895500</td>\n",
       "    </tr>\n",
       "    <tr>\n",
       "      <th>3</th>\n",
       "      <td>The Red Thread</td>\n",
       "      <td>After the Last</td>\n",
       "      <td>Chris Dahlen</td>\n",
       "      <td>7.3</td>\n",
       "      <td>2003.0</td>\n",
       "      <td>2003-07-17</td>\n",
       "      <td>Badman</td>\n",
       "      <td>Rock</td>\n",
       "      <td>0.425400</td>\n",
       "      <td>0.433474</td>\n",
       "      <td>5.700000</td>\n",
       "      <td>-12.871000</td>\n",
       "      <td>0.028260</td>\n",
       "      <td>0.310325</td>\n",
       "      <td>0.224137</td>\n",
       "      <td>0.125150</td>\n",
       "      <td>0.451400</td>\n",
       "      <td>104.354200</td>\n",
       "    </tr>\n",
       "    <tr>\n",
       "      <th>4</th>\n",
       "      <td>Mac Miller</td>\n",
       "      <td>Swimming</td>\n",
       "      <td>Evan Rytlewski</td>\n",
       "      <td>7.5</td>\n",
       "      <td>2018.0</td>\n",
       "      <td>2018-08-03</td>\n",
       "      <td>Warner Bros.</td>\n",
       "      <td>Rap</td>\n",
       "      <td>0.624846</td>\n",
       "      <td>0.438154</td>\n",
       "      <td>4.153846</td>\n",
       "      <td>-9.456077</td>\n",
       "      <td>0.170246</td>\n",
       "      <td>0.652462</td>\n",
       "      <td>0.012819</td>\n",
       "      <td>0.121131</td>\n",
       "      <td>0.281138</td>\n",
       "      <td>122.121308</td>\n",
       "    </tr>\n",
       "    <tr>\n",
       "      <th>...</th>\n",
       "      <td>...</td>\n",
       "      <td>...</td>\n",
       "      <td>...</td>\n",
       "      <td>...</td>\n",
       "      <td>...</td>\n",
       "      <td>...</td>\n",
       "      <td>...</td>\n",
       "      <td>...</td>\n",
       "      <td>...</td>\n",
       "      <td>...</td>\n",
       "      <td>...</td>\n",
       "      <td>...</td>\n",
       "      <td>...</td>\n",
       "      <td>...</td>\n",
       "      <td>...</td>\n",
       "      <td>...</td>\n",
       "      <td>...</td>\n",
       "      <td>...</td>\n",
       "    </tr>\n",
       "    <tr>\n",
       "      <th>16772</th>\n",
       "      <td>Flying Lotus</td>\n",
       "      <td>Flamagra</td>\n",
       "      <td>Philip Sherburne</td>\n",
       "      <td>7.8</td>\n",
       "      <td>2019.0</td>\n",
       "      <td>2019-05-24</td>\n",
       "      <td>none</td>\n",
       "      <td>Electronic</td>\n",
       "      <td>0.536750</td>\n",
       "      <td>0.652050</td>\n",
       "      <td>5.350000</td>\n",
       "      <td>-8.583750</td>\n",
       "      <td>0.134820</td>\n",
       "      <td>0.215916</td>\n",
       "      <td>0.519892</td>\n",
       "      <td>0.192075</td>\n",
       "      <td>0.353705</td>\n",
       "      <td>124.988200</td>\n",
       "    </tr>\n",
       "    <tr>\n",
       "      <th>16773</th>\n",
       "      <td>YG</td>\n",
       "      <td>4REAL 4REAL</td>\n",
       "      <td>Sheldon Pearce</td>\n",
       "      <td>7.2</td>\n",
       "      <td>2019.0</td>\n",
       "      <td>2019-05-24</td>\n",
       "      <td>none</td>\n",
       "      <td>Rap</td>\n",
       "      <td>0.815429</td>\n",
       "      <td>0.556929</td>\n",
       "      <td>4.785714</td>\n",
       "      <td>-6.327643</td>\n",
       "      <td>0.259721</td>\n",
       "      <td>0.186476</td>\n",
       "      <td>0.000848</td>\n",
       "      <td>0.244586</td>\n",
       "      <td>0.361850</td>\n",
       "      <td>115.455857</td>\n",
       "    </tr>\n",
       "    <tr>\n",
       "      <th>16774</th>\n",
       "      <td>Mavis Staples</td>\n",
       "      <td>We Get By</td>\n",
       "      <td>Stephen M. Deusner</td>\n",
       "      <td>7.5</td>\n",
       "      <td>2019.0</td>\n",
       "      <td>2019-05-24</td>\n",
       "      <td>none</td>\n",
       "      <td>Pop/R&amp;B</td>\n",
       "      <td>0.633636</td>\n",
       "      <td>0.374664</td>\n",
       "      <td>5.454545</td>\n",
       "      <td>-10.363000</td>\n",
       "      <td>0.071664</td>\n",
       "      <td>0.710727</td>\n",
       "      <td>0.001982</td>\n",
       "      <td>0.118609</td>\n",
       "      <td>0.619364</td>\n",
       "      <td>114.246818</td>\n",
       "    </tr>\n",
       "    <tr>\n",
       "      <th>16775</th>\n",
       "      <td>Amyl and the Sniffers</td>\n",
       "      <td>Amyl and the Sniffers</td>\n",
       "      <td>Stephen Thomas Erlewine</td>\n",
       "      <td>7.2</td>\n",
       "      <td>2019.0</td>\n",
       "      <td>2019-05-24</td>\n",
       "      <td>none</td>\n",
       "      <td>Rock</td>\n",
       "      <td>0.440909</td>\n",
       "      <td>0.876636</td>\n",
       "      <td>5.454545</td>\n",
       "      <td>-3.353182</td>\n",
       "      <td>0.064000</td>\n",
       "      <td>0.000838</td>\n",
       "      <td>0.135113</td>\n",
       "      <td>0.172718</td>\n",
       "      <td>0.591545</td>\n",
       "      <td>119.177454</td>\n",
       "    </tr>\n",
       "    <tr>\n",
       "      <th>16778</th>\n",
       "      <td>D√¢m-Funk</td>\n",
       "      <td>STFU II EP</td>\n",
       "      <td>Jonah Bromwich</td>\n",
       "      <td>7.1</td>\n",
       "      <td>2019.0</td>\n",
       "      <td>2019-05-23</td>\n",
       "      <td>none</td>\n",
       "      <td>Pop/R&amp;B</td>\n",
       "      <td>0.502000</td>\n",
       "      <td>0.930000</td>\n",
       "      <td>2.000000</td>\n",
       "      <td>-1.880000</td>\n",
       "      <td>0.047200</td>\n",
       "      <td>0.000061</td>\n",
       "      <td>0.001060</td>\n",
       "      <td>0.063500</td>\n",
       "      <td>0.492000</td>\n",
       "      <td>97.980000</td>\n",
       "    </tr>\n",
       "  </tbody>\n",
       "</table>\n",
       "<p>16730 rows × 18 columns</p>\n",
       "</div>"
      ],
      "text/plain": [
       "                      artist                              album  \\\n",
       "0                   Studio 1                           Studio 1   \n",
       "1                 John Fahey  The Great Santa Barbara Oil Slick   \n",
       "2             Reigning Sound                    Too Much Guitar   \n",
       "3             The Red Thread                     After the Last   \n",
       "4                 Mac Miller                           Swimming   \n",
       "...                      ...                                ...   \n",
       "16772           Flying Lotus                           Flamagra   \n",
       "16773                     YG                        4REAL 4REAL   \n",
       "16774          Mavis Staples                          We Get By   \n",
       "16775  Amyl and the Sniffers              Amyl and the Sniffers   \n",
       "16778              D√¢m-Funk                         STFU II EP   \n",
       "\n",
       "                  reviewauthor  score  releaseyear reviewdate   recordlabel  \\\n",
       "0               Andy Battaglia    8.5       2009.0 2009-02-18        Studio   \n",
       "1              Mark Richardson    8.2       2005.0 2005-02-13         Water   \n",
       "2           Stephen M. Deusner    8.3       2004.0 2004-08-19    In the Red   \n",
       "3                 Chris Dahlen    7.3       2003.0 2003-07-17        Badman   \n",
       "4               Evan Rytlewski    7.5       2018.0 2018-08-03  Warner Bros.   \n",
       "...                        ...    ...          ...        ...           ...   \n",
       "16772         Philip Sherburne    7.8       2019.0 2019-05-24          none   \n",
       "16773           Sheldon Pearce    7.2       2019.0 2019-05-24          none   \n",
       "16774       Stephen M. Deusner    7.5       2019.0 2019-05-24          none   \n",
       "16775  Stephen Thomas Erlewine    7.2       2019.0 2019-05-24          none   \n",
       "16778           Jonah Bromwich    7.1       2019.0 2019-05-23          none   \n",
       "\n",
       "              genre  danceability    energy       key   loudness  speechiness  \\\n",
       "0        Electronic      0.511917  0.499667  5.250000  -5.626583     0.031983   \n",
       "1      Folk/Country      0.369765  0.325412  4.470588 -19.153824     0.148624   \n",
       "2        Electronic      0.253943  0.912857  4.428571  -1.089500     0.055500   \n",
       "3              Rock      0.425400  0.433474  5.700000 -12.871000     0.028260   \n",
       "4               Rap      0.624846  0.438154  4.153846  -9.456077     0.170246   \n",
       "...             ...           ...       ...       ...        ...          ...   \n",
       "16772    Electronic      0.536750  0.652050  5.350000  -8.583750     0.134820   \n",
       "16773           Rap      0.815429  0.556929  4.785714  -6.327643     0.259721   \n",
       "16774       Pop/R&B      0.633636  0.374664  5.454545 -10.363000     0.071664   \n",
       "16775          Rock      0.440909  0.876636  5.454545  -3.353182     0.064000   \n",
       "16778       Pop/R&B      0.502000  0.930000  2.000000  -1.880000     0.047200   \n",
       "\n",
       "       acousticness  instrumentalness  liveness   valence       tempo  \n",
       "0          0.724917          0.024493  0.165367  0.555083  101.395167  \n",
       "1          0.647053          0.559133  0.527782  0.179465  107.622647  \n",
       "2          0.000253          0.751214  0.199071  0.552786  133.895500  \n",
       "3          0.310325          0.224137  0.125150  0.451400  104.354200  \n",
       "4          0.652462          0.012819  0.121131  0.281138  122.121308  \n",
       "...             ...               ...       ...       ...         ...  \n",
       "16772      0.215916          0.519892  0.192075  0.353705  124.988200  \n",
       "16773      0.186476          0.000848  0.244586  0.361850  115.455857  \n",
       "16774      0.710727          0.001982  0.118609  0.619364  114.246818  \n",
       "16775      0.000838          0.135113  0.172718  0.591545  119.177454  \n",
       "16778      0.000061          0.001060  0.063500  0.492000   97.980000  \n",
       "\n",
       "[16730 rows x 18 columns]"
      ]
     },
     "execution_count": 66,
     "metadata": {},
     "output_type": "execute_result"
    }
   ],
   "source": [
    "# Drop falulty rows, for examplem albums with speeachiness = -1. \n",
    "df = df.drop(df[(df.acousticness  < 0) | (df.energy < 0) | (df.instrumentalness < 0)].index)\n",
    "df"
   ]
  },
  {
   "cell_type": "code",
   "execution_count": 67,
   "metadata": {},
   "outputs": [
    {
     "data": {
      "text/html": [
       "<div>\n",
       "<style scoped>\n",
       "    .dataframe tbody tr th:only-of-type {\n",
       "        vertical-align: middle;\n",
       "    }\n",
       "\n",
       "    .dataframe tbody tr th {\n",
       "        vertical-align: top;\n",
       "    }\n",
       "\n",
       "    .dataframe thead th {\n",
       "        text-align: right;\n",
       "    }\n",
       "</style>\n",
       "<table border=\"1\" class=\"dataframe\">\n",
       "  <thead>\n",
       "    <tr style=\"text-align: right;\">\n",
       "      <th></th>\n",
       "      <th>score</th>\n",
       "      <th>releaseyear</th>\n",
       "      <th>danceability</th>\n",
       "      <th>energy</th>\n",
       "      <th>key</th>\n",
       "      <th>loudness</th>\n",
       "      <th>speechiness</th>\n",
       "      <th>acousticness</th>\n",
       "      <th>instrumentalness</th>\n",
       "      <th>liveness</th>\n",
       "      <th>valence</th>\n",
       "      <th>tempo</th>\n",
       "    </tr>\n",
       "  </thead>\n",
       "  <tbody>\n",
       "    <tr>\n",
       "      <th>Mean</th>\n",
       "      <td>7.048536</td>\n",
       "      <td>2009.345965</td>\n",
       "      <td>0.512967</td>\n",
       "      <td>0.601951</td>\n",
       "      <td>5.219034</td>\n",
       "      <td>-9.286912</td>\n",
       "      <td>0.091208</td>\n",
       "      <td>0.302476</td>\n",
       "      <td>0.275303</td>\n",
       "      <td>0.196910</td>\n",
       "      <td>0.405853</td>\n",
       "      <td>120.377216</td>\n",
       "    </tr>\n",
       "    <tr>\n",
       "      <th>Median</th>\n",
       "      <td>7.300000</td>\n",
       "      <td>2010.000000</td>\n",
       "      <td>0.511364</td>\n",
       "      <td>0.624823</td>\n",
       "      <td>5.230769</td>\n",
       "      <td>-8.446428</td>\n",
       "      <td>0.056681</td>\n",
       "      <td>0.229000</td>\n",
       "      <td>0.149641</td>\n",
       "      <td>0.174304</td>\n",
       "      <td>0.406300</td>\n",
       "      <td>120.406490</td>\n",
       "    </tr>\n",
       "    <tr>\n",
       "      <th>Minimum value</th>\n",
       "      <td>0.000000</td>\n",
       "      <td>1957.000000</td>\n",
       "      <td>0.038667</td>\n",
       "      <td>0.000126</td>\n",
       "      <td>0.000000</td>\n",
       "      <td>-51.728750</td>\n",
       "      <td>0.008644</td>\n",
       "      <td>0.000001</td>\n",
       "      <td>0.000000</td>\n",
       "      <td>0.015300</td>\n",
       "      <td>0.000010</td>\n",
       "      <td>23.983333</td>\n",
       "    </tr>\n",
       "    <tr>\n",
       "      <th>Maximum value</th>\n",
       "      <td>10.000000</td>\n",
       "      <td>2019.000000</td>\n",
       "      <td>0.974000</td>\n",
       "      <td>0.999000</td>\n",
       "      <td>11.000000</td>\n",
       "      <td>4.078000</td>\n",
       "      <td>0.958000</td>\n",
       "      <td>0.996000</td>\n",
       "      <td>0.982000</td>\n",
       "      <td>0.978000</td>\n",
       "      <td>0.971000</td>\n",
       "      <td>215.972000</td>\n",
       "    </tr>\n",
       "  </tbody>\n",
       "</table>\n",
       "</div>"
      ],
      "text/plain": [
       "                   score  releaseyear  danceability    energy        key  \\\n",
       "Mean            7.048536  2009.345965      0.512967  0.601951   5.219034   \n",
       "Median          7.300000  2010.000000      0.511364  0.624823   5.230769   \n",
       "Minimum value   0.000000  1957.000000      0.038667  0.000126   0.000000   \n",
       "Maximum value  10.000000  2019.000000      0.974000  0.999000  11.000000   \n",
       "\n",
       "                loudness  speechiness  acousticness  instrumentalness  \\\n",
       "Mean           -9.286912     0.091208      0.302476          0.275303   \n",
       "Median         -8.446428     0.056681      0.229000          0.149641   \n",
       "Minimum value -51.728750     0.008644      0.000001          0.000000   \n",
       "Maximum value   4.078000     0.958000      0.996000          0.982000   \n",
       "\n",
       "               liveness   valence       tempo  \n",
       "Mean           0.196910  0.405853  120.377216  \n",
       "Median         0.174304  0.406300  120.406490  \n",
       "Minimum value  0.015300  0.000010   23.983333  \n",
       "Maximum value  0.978000  0.971000  215.972000  "
      ]
     },
     "execution_count": 67,
     "metadata": {},
     "output_type": "execute_result"
    }
   ],
   "source": [
    "# Drop columns that are non-numerical\n",
    "df_n = df.drop(['artist','album','reviewauthor','reviewdate','recordlabel','genre'],axis=1)\n",
    "\n",
    "stats_matrix = np.zeros((4,12))\n",
    "stats_matrix[0,:] = df_n.mean()\n",
    "stats_matrix[1,:] = df_n.median()\n",
    "stats_matrix[2,:] = df_n.min()\n",
    "stats_matrix[3,:] = df_n.max()\n",
    "stats_names = ['Mean','Median','Minimum value','Maximum value']\n",
    "df_stats = pd.DataFrame(data=stats_matrix,columns=df_n.columns,index=stats_names)\n",
    "df_stats"
   ]
  },
  {
   "cell_type": "code",
   "execution_count": 68,
   "metadata": {},
   "outputs": [
    {
     "data": {
      "image/png": "[encoded data removed]",
      "text/plain": [
       "<Figure size 1008x1008 with 12 Axes>"
      ]
     },
     "metadata": {},
     "output_type": "display_data"
    }
   ],
   "source": [
    "# 1.3.2\n",
    "sns.set_style('darkgrid')\n",
    "\n",
    "fig, axs = plt.subplots(4,3, figsize=(14, 14), sharey=True)\n",
    "column_list = df_stats.columns.values.tolist()\n",
    "kk = 0\n",
    "\n",
    "for ii in range(0,4):\n",
    "    for jj in range(0,3):\n",
    "        column_name = column_list[kk]\n",
    "        axs[ii,jj].hist(df[column_name])\n",
    "        axs[ii,jj].set_title(\"Distribution of the feature \" + column_name)\n",
    "        kk = kk +1\n",
    "    \n",
    "plt.show()"
   ]
  },
  {
   "cell_type": "code",
   "execution_count": 69,
   "metadata": {},
   "outputs": [
    {
     "name": "stdout",
     "output_type": "stream",
     "text": [
      "artist column has 7890 distinct values\n",
      "album column has 16176 distinct values\n",
      "reviewauthor column has 554 distinct values\n",
      "reviewdate column has 4876 distinct values\n",
      "recordlabel column has 3030 distinct values\n",
      "genre column has 10 distinct values\n",
      "\n",
      "genre column has 10 or less unique values and they are:\n",
      "['Electronic' 'Folk/Country' 'Rock' 'Rap' 'Global' 'Experimental' 'Metal'\n",
      " 'Pop/R&B' 'Jazz' 'none']\n",
      "\n",
      "['Electronic' 'Folk/Country' 'Rock' 'Rap' 'Global' 'Experimental' 'Metal'\n",
      " 'Pop/R&B' 'Jazz' 'Other']\n"
     ]
    }
   ],
   "source": [
    "# 1.4\n",
    "\n",
    "df_categ = df[['artist','album','reviewauthor','reviewdate','recordlabel','genre']]\n",
    "column_list = df_categ.columns.values.tolist()\n",
    "for column_name in column_list:\n",
    "    no_unique_vals = df_categ[column_name].nunique()\n",
    "    print(column_name, 'column has', no_unique_vals, 'distinct values')\n",
    "    if (no_unique_vals <= 10):\n",
    "        print()\n",
    "        print(column_name, 'column has 10 or less unique values and they are:')\n",
    "        print(df_categ[column_name].unique())\n",
    "\n",
    "print()\n",
    "df['genre'].replace('none', 'Other', inplace=True)\n",
    "df['genre'] = df['genre'].replace(np.nan, 'Other', regex=True)\n",
    "print(df['genre'].unique())\n"
   ]
  },
  {
   "cell_type": "code",
   "execution_count": 70,
   "metadata": {},
   "outputs": [
    {
     "name": "stdout",
     "output_type": "stream",
     "text": [
      "Number of nans in genre column is 0\n",
      "Number of \"none\" in genre column is 0\n"
     ]
    }
   ],
   "source": [
    "print('Number of nans in genre column is',df['genre'].isna().sum())\n",
    "print('Number of \"none\" in genre column is',len(df[df['genre'] =='none']))\n",
    "df['genre'] = df['genre'].replace(np.nan, 'Other')\n",
    "df['genre'] = df['genre'].replace('none', 'Other')"
   ]
  },
  {
   "cell_type": "markdown",
   "metadata": {},
   "source": [
    "#### End of task 1.4"
   ]
  },
  {
   "cell_type": "markdown",
   "metadata": {},
   "source": [
    "#### The cells below is to support our discussion in 1.5"
   ]
  },
  {
   "cell_type": "code",
   "execution_count": 71,
   "metadata": {},
   "outputs": [
    {
     "data": {
      "text/plain": [
       "genre\n",
       "Electronic      3562\n",
       "Experimental    1638\n",
       "Folk/Country     734\n",
       "Global           161\n",
       "Jazz             278\n",
       "Metal            754\n",
       "Other             11\n",
       "Pop/R&B         1284\n",
       "Rap             1609\n",
       "Rock            6699\n",
       "Name: artist, dtype: int64"
      ]
     },
     "execution_count": 71,
     "metadata": {},
     "output_type": "execute_result"
    }
   ],
   "source": [
    "df.groupby('genre').count()['artist']"
   ]
  },
  {
   "cell_type": "code",
   "execution_count": 72,
   "metadata": {},
   "outputs": [
    {
     "data": {
      "text/plain": [
       "<BarContainer object of 3 artists>"
      ]
     },
     "execution_count": 72,
     "metadata": {},
     "output_type": "execute_result"
    },
    {
     "data": {
      "image/png": "[encoded data removed]",
      "text/plain": [
       "<Figure size 576x396 with 1 Axes>"
      ]
     },
     "metadata": {},
     "output_type": "display_data"
    }
   ],
   "source": [
    "rock_genre = 0\n",
    "rock_elec_genre = 0\n",
    "all_other_genre = 0\n",
    "for idc,val in enumerate(df['genre']):\n",
    "    if (val=='Rock'):\n",
    "        rock_genre += 1\n",
    "    if ( (val=='Rock') or (val=='Electronic') ):\n",
    "        rock_elec_genre +=1\n",
    "    if ( (val!='Rock')and (val!='Electronic')):\n",
    "        all_other_genre +=1\n",
    "    \n",
    "bar_heights = np.array([rock_genre,rock_elec_genre,all_other_genre])\n",
    "bar_heights1 = (bar_heights/df.shape[0])*100\n",
    "bar_labels= ['Rock','Rock and Electronic','All other Genres']\n",
    "\n",
    "plt.bar([0,1,2],bar_heights1,tick_label=bar_labels )"
   ]
  },
  {
   "cell_type": "markdown",
   "metadata": {},
   "source": [
    "##### 1.5\n",
    "\n",
    "**Discuss**: This dataset was built with found data—i.e., the Pitchfork reviews were not made with the goal of training a machine learning model. Grounded on the previous analyses and in Pitchfork's Wikipedia page, point three (exactly!) ways in which this data may not be representative of music albums in general due to the way the data was collected\n",
    "1) We grouped the data by genre and found interesting results that are summarized in the bar chart above. We found that 40% of all reviews were albums that belong to the rock genre. We also found that 61.3% of all the albums belonged to the rock and electronic genre, while the other 38.7% of albums belonged to the other 8 other genres. This means that the data is unbalanced and this is an issue for training a machine learning model. It was also shown on the Wikipedia page that one of the critics of Pitchfork is that \"In the 2000s the website's journalism favored independent music, favoring lo-fi and often obscure indie rock and giving only cursory treatment to other genres.\"\n",
    "\n",
    "2) From the distribution plot of the average score per year of task 1.2, we observed that the average score drops just before the year 2000. We also observed from the distribution of the album release years that there are very few albums reviewed before the 2000s. This makes sense as Pitchfork was founded in 1995. We believe the reason for the drop in score is due to the fact that old albums (those before 1995) are more likely to receive higher scores because old albums are less likely to be reviewed unless the reviewer highly appreciates the old albums or takes only albums that had a big sucess.\n",
    "\n",
    "3) Reviewing an album depends only on the tastes of the reviewer in music. Since there are only 554 review authors, this means that the scores of music albums are not representative of the opinion of the population. In fact 554 may not be a good sample of the population to take the general opinion."
   ]
  },
  {
   "cell_type": "markdown",
   "metadata": {
    "pycharm": {
     "name": "#%% md\n"
    }
   },
   "source": [
    "#### **Task 2 (Pre-processing and pipeline code — 12 pts)**\n",
    "\n",
    "Next, you decide to prepare the code that will help you in training your machine learning models. Also, you implement a simple baseline. For this task, **unless otherwise stated** you must implement functions yourself, instead of relying on `scikit-learn` (you can use `numpy` or `pandas`, though!).\n",
    "\n",
    "1. For each possible value in the `genre` column, create a new column called `{genre}_onehot` (e.g., for `genre=jazz`, create `jazz_onehot`). Collectively, these new columns should \"one hot-encode\" the genre column—for instance, if for a given album the `genre` is filled with the value `jazz`, the `jazz_onehot` column should equal 1 and all other `{genre}_onehot` columns should equal 0. \n",
    "\n",
    "2. Create a function `numpy_helper(df, cols)` to obtain a `numpy.array` out of your `dataframe`. The function should receive a dataframe `df` with N rows and a list of M columns `cols`, and should return a `np.array` of dimension (NxM).\n",
    "\n",
    "3. For each album, build an array of features `X` containing all genre-related one-hot features, and an array of outcomes `y` containing scores. Using the function [`sklearn.model_selection.train_test_split`](https://scikit-learn.org/stable/modules/generated/sklearn.model_selection.train_test_split.html) with `random_state=123`, split the data into a train set containing 70% of all data, and a test set containing the remaining 30%.\n",
    "\n",
    "4. Create your own baseline regressor. Using the training data (in the training stage), your regressor should estimate the average score for all albums. Then, for the test data (in the prediction stage), your classifier should always output the average score (computed on the training data).\n",
    "\n",
    "5. Calculate the [coefficient of determination ($R^2$)](https://scikit-learn.org/stable/modules/generated/sklearn.metrics.r2_score.html) of your baseline on the test data. **You are allowed to use the `sklearn` implementation here.**\n",
    "\n",
    "6. **Discuss:** Your train-test split randomly selected 70% of all data for the training set. Why is this a problem for the broader task of predicting whether a future album will be successful or not?\n",
    "\n",
    "---"
   ]
  },
  {
   "cell_type": "code",
   "execution_count": 73,
   "metadata": {},
   "outputs": [
    {
     "data": {
      "text/plain": [
       "Index(['artist', 'album', 'reviewauthor', 'score', 'releaseyear', 'reviewdate',\n",
       "       'recordlabel', 'genre', 'danceability', 'energy', 'key', 'loudness',\n",
       "       'speechiness', 'acousticness', 'instrumentalness', 'liveness',\n",
       "       'valence', 'tempo', 'Electronic_onehot', 'Folk/Country_onehot',\n",
       "       'Rock_onehot', 'Rap_onehot', 'Global_onehot', 'Experimental_onehot',\n",
       "       'Metal_onehot', 'Pop/R&B_onehot', 'Jazz_onehot', 'Other_onehot'],\n",
       "      dtype='object')"
      ]
     },
     "execution_count": 73,
     "metadata": {},
     "output_type": "execute_result"
    }
   ],
   "source": [
    "#2.1\n",
    "\n",
    "# Get all unique genres and make onehot columns for them\n",
    "genres = df[\"genre\"].unique()\n",
    "for genre_unique in genres:\n",
    "    name = genre_unique+'_onehot'\n",
    "    df[name] = 1*(genre_unique == df['genre'])\n",
    "# Verify that the new columns has been created \n",
    "df.columns"
   ]
  },
  {
   "cell_type": "code",
   "execution_count": 74,
   "metadata": {},
   "outputs": [
    {
     "data": {
      "text/plain": [
       "array([['Studio 1', 'Electronic'],\n",
       "       ['The Great Santa Barbara Oil Slick', 'Folk/Country'],\n",
       "       ['Too Much Guitar', 'Electronic'],\n",
       "       ...,\n",
       "       ['We Get By', 'Pop/R&B'],\n",
       "       ['Amyl and the Sniffers', 'Rock'],\n",
       "       ['STFU II EP', 'Pop/R&B']], dtype=object)"
      ]
     },
     "execution_count": 74,
     "metadata": {},
     "output_type": "execute_result"
    }
   ],
   "source": [
    "#2.2\n",
    "\n",
    "def numpy_helper(df, cols):\n",
    "    # Takes the columns cols in dataframe df and change it to numpy.array\n",
    "    return df[cols].to_numpy()  \n",
    "# Verify that the function works \n",
    "numpy_helper(df,['album','genre'])"
   ]
  },
  {
   "cell_type": "code",
   "execution_count": 75,
   "metadata": {},
   "outputs": [],
   "source": [
    "#2.3\n",
    "\n",
    "onehot = np.repeat('_onehot', len(genres))\n",
    "cols = genres + onehot\n",
    "X = numpy_helper(df,cols)\n",
    "y = numpy_helper (df,'score')\n",
    "\n",
    "X_train, X_test, y_train, y_test = train_test_split(X, y, test_size=0.30, random_state=123)"
   ]
  },
  {
   "cell_type": "code",
   "execution_count": 76,
   "metadata": {},
   "outputs": [],
   "source": [
    "#2.4\n",
    "\n",
    "# We want to estimate the average score for all albums with only the genre of the albums as variable \n",
    "# This correponds to a linear regression that we are going to solve without using sklearn :\n",
    "X_train_model  = np.c_[np.ones((len(X_train), 1)), X_train] # Add a column of ones\n",
    "betas = np.linalg.tensorsolve(X_train_model.T.dot(X_train_model), X_train_model.T.dot(y_train))\n",
    "\n",
    "# We now use our optimal weights to predict on the X_test: \n",
    "X_test_model = np.c_[np.ones((len(X_test),1)),X_test]\n",
    "y_predict_test = X_test_model.dot(betas)"
   ]
  },
  {
   "cell_type": "code",
   "execution_count": 77,
   "metadata": {},
   "outputs": [
    {
     "name": "stdout",
     "output_type": "stream",
     "text": [
      "Coeffiecent of determination: 0.011353866407970092\n"
     ]
    }
   ],
   "source": [
    "#2.5\n",
    "\n",
    "R_square = r2_score(y_test, y_predict_test) \n",
    "print (\"Coeffiecent of determination:\", R_square) "
   ]
  },
  {
   "cell_type": "markdown",
   "metadata": {},
   "source": [
    "##### 2.6 \n",
    "\n",
    "**Discuss:** Your train-test split randomly selected 70% of all data for the training set. Why is this a problem for the broader task of predicting whether a future album will be successful or not?\n",
    "\n",
    "As we can see our coefficient of determination is very small. Usually it represents the fraction of variance unexplained which means that in our case, the regression prediction fit the data very bad. Taking 70% of all data as training data can be one of the reasons why the regression is not good. In fact, some of the genres are underpresented (for example we only have 11 data points with genre Others) and doing a cross validation on such a small set might decrease the results. This problem is called a stratification problem. In fact, when the data is composed by many classes with different proportition in all the data, it's recommended to split randomly selected 70% in each class of the data for the training set. "
   ]
  },
  {
   "cell_type": "markdown",
   "metadata": {},
   "source": [
    "**Task 3 (Regression — 14 pts)**\n",
    "\n",
    "Finally, you get down to business and train your regression models.\n",
    "\n",
    "1. Build a Linear Regression model (use `sklearn`) that predicts the outcome `score` using the features \"releaseyear\",  \"key\", \"acousticness\", \"danceability\", \"energy\", \"instrumentalness\", \"liveness\", \"loudness\", \"speechiness\", \"valence\", \"tempo\" and the one-hot encoded genre-related columns.  Using a 70/30 train-test split similar to what you did in task two (hereinafter referred to as \"the random split\", use the same random seed, `random_state=123`), report the $R^2$ for the testing set.\n",
    "\n",
    "2. Create an alternate train-test split (hereinafter referred to as \"the longitudinal split\") where you train with data from albums released before 2000 and test with data from 2003 and after. Report the $R^2$ for the testing set using the same model you developed for the previous question. **Discuss:** give the correct interpretation of $R^2$ value for the longitudinal split.\n",
    "\n",
    "3. For a given entry $X$ your model outputs a predicted score $Y'$. The difference between the real score $Y$ and the predicted score $Y'$ is called the \"residual\". Considering the model trained in 3.2, plot the distribution of your residuals for the test set. Additionally, estimate what is the probability that your score prediction (from 3.2) is off by more than 2-points? Provide bootstrapped confidence intervals for your answer.\n",
    "\n",
    "4. Experiment with training a different regressor, a Gradient Boosting Regressor. This regressor is related to the Boosted decision trees that you have seen in class. This model performs extremely well for a variety of tasks and is often used in machine learning competitions for tabular data (e.g., on Kaggle). Train the regressor using the longitudinal split and the same features as in 3.2, use the default hyperparameters. Report the $R^2$ for the testing set. \n",
    "\n",
    "5. **Discuss:** Hypothesize a reason for the difference in performance between the Linear regression and the Gradient Boosting Regressor.\n",
    "\n",
    "---"
   ]
  },
  {
   "cell_type": "code",
   "execution_count": 78,
   "metadata": {},
   "outputs": [
    {
     "data": {
      "text/html": [
       "<div>\n",
       "<style scoped>\n",
       "    .dataframe tbody tr th:only-of-type {\n",
       "        vertical-align: middle;\n",
       "    }\n",
       "\n",
       "    .dataframe tbody tr th {\n",
       "        vertical-align: top;\n",
       "    }\n",
       "\n",
       "    .dataframe thead th {\n",
       "        text-align: right;\n",
       "    }\n",
       "</style>\n",
       "<table border=\"1\" class=\"dataframe\">\n",
       "  <thead>\n",
       "    <tr style=\"text-align: right;\">\n",
       "      <th></th>\n",
       "      <th>score</th>\n",
       "      <th>releaseyear</th>\n",
       "      <th>danceability</th>\n",
       "      <th>energy</th>\n",
       "      <th>key</th>\n",
       "      <th>loudness</th>\n",
       "      <th>speechiness</th>\n",
       "      <th>acousticness</th>\n",
       "      <th>instrumentalness</th>\n",
       "      <th>liveness</th>\n",
       "      <th>...</th>\n",
       "      <th>Electronic_onehot</th>\n",
       "      <th>Folk/Country_onehot</th>\n",
       "      <th>Rock_onehot</th>\n",
       "      <th>Rap_onehot</th>\n",
       "      <th>Global_onehot</th>\n",
       "      <th>Experimental_onehot</th>\n",
       "      <th>Metal_onehot</th>\n",
       "      <th>Pop/R&amp;B_onehot</th>\n",
       "      <th>Jazz_onehot</th>\n",
       "      <th>Other_onehot</th>\n",
       "    </tr>\n",
       "  </thead>\n",
       "  <tbody>\n",
       "    <tr>\n",
       "      <th>0</th>\n",
       "      <td>8.5</td>\n",
       "      <td>2009.0</td>\n",
       "      <td>0.511917</td>\n",
       "      <td>0.499667</td>\n",
       "      <td>5.25</td>\n",
       "      <td>-5.626583</td>\n",
       "      <td>0.031983</td>\n",
       "      <td>0.724917</td>\n",
       "      <td>0.024493</td>\n",
       "      <td>0.165367</td>\n",
       "      <td>...</td>\n",
       "      <td>1</td>\n",
       "      <td>0</td>\n",
       "      <td>0</td>\n",
       "      <td>0</td>\n",
       "      <td>0</td>\n",
       "      <td>0</td>\n",
       "      <td>0</td>\n",
       "      <td>0</td>\n",
       "      <td>0</td>\n",
       "      <td>0</td>\n",
       "    </tr>\n",
       "  </tbody>\n",
       "</table>\n",
       "<p>1 rows × 22 columns</p>\n",
       "</div>"
      ],
      "text/plain": [
       "   score  releaseyear  danceability    energy   key  loudness  speechiness  \\\n",
       "0    8.5       2009.0      0.511917  0.499667  5.25 -5.626583     0.031983   \n",
       "\n",
       "   acousticness  instrumentalness  liveness  ...  Electronic_onehot  \\\n",
       "0      0.724917          0.024493  0.165367  ...                  1   \n",
       "\n",
       "   Folk/Country_onehot  Rock_onehot  Rap_onehot  Global_onehot  \\\n",
       "0                    0            0           0              0   \n",
       "\n",
       "   Experimental_onehot  Metal_onehot  Pop/R&B_onehot  Jazz_onehot  \\\n",
       "0                    0             0               0            0   \n",
       "\n",
       "   Other_onehot  \n",
       "0             0  \n",
       "\n",
       "[1 rows x 22 columns]"
      ]
     },
     "execution_count": 78,
     "metadata": {},
     "output_type": "execute_result"
    }
   ],
   "source": [
    "#3.1\n",
    "\n",
    "task3df = df.drop(['artist', 'album', 'reviewauthor', 'reviewdate', 'recordlabel', 'genre'], axis=1)\n",
    "\n",
    "# Show the dataframe\n",
    "task3df.head(1)"
   ]
  },
  {
   "cell_type": "code",
   "execution_count": 79,
   "metadata": {},
   "outputs": [],
   "source": [
    "# Make an X and y for regression\n",
    "X = task3df.drop(['score'], axis=1)\n",
    "y = task3df['score']\n",
    "\n",
    "# Sample the random split\n",
    "X_train, X_test, y_train, y_test = train_test_split(X, y, test_size=0.30, random_state=123)\n",
    "\n",
    "# Do linear regression\n",
    "model = LinearRegression()\n",
    "reg = model.fit(X_train, y_train)\n",
    "\n",
    "# Predict y\n",
    "y_pred = reg.predict(X_test)"
   ]
  },
  {
   "cell_type": "code",
   "execution_count": 80,
   "metadata": {},
   "outputs": [
    {
     "name": "stdout",
     "output_type": "stream",
     "text": [
      "R2 score: 0.038669870192804434\n"
     ]
    }
   ],
   "source": [
    "# Check the R2 score of the prediction\n",
    "print(\"R2 score: {}\".format(r2_score(y_test, y_pred)))"
   ]
  },
  {
   "cell_type": "code",
   "execution_count": 90,
   "metadata": {},
   "outputs": [],
   "source": [
    "#3.2\n",
    "\n",
    "# Create \"the longitudinal split\"\n",
    "train_long = task3df[task3df.releaseyear <= 2000]\n",
    "test_long = task3df[task3df.releaseyear >= 2003]\n",
    "x_test_long = test_long.drop(['score'], axis=1)\n",
    "y_test_long = test_long['score']\n",
    "x_train_long = train_long.drop(['score'], axis=1)\n",
    "y_train_long = train_long['score']\n",
    "\n",
    "# Do the linear regression\n",
    "model = LinearRegression()\n",
    "reg = model.fit(x_train_long, y_train_long)\n",
    "y_pred_long = reg.predict(x_test_long)"
   ]
  },
  {
   "cell_type": "code",
   "execution_count": 82,
   "metadata": {},
   "outputs": [
    {
     "name": "stdout",
     "output_type": "stream",
     "text": [
      "R2 score: -0.14788594714654701\n"
     ]
    }
   ],
   "source": [
    "# Check the R2 score of the prediction\n",
    "print(\"R2 score: {}\".format(r2_score(y_test_long, y_pred_long)))"
   ]
  },
  {
   "cell_type": "markdown",
   "metadata": {},
   "source": [
    "##### 3.2\n",
    "**Discussion**: Give the correct interpretation of  𝑅2  value for the longitudinal split.\n",
    "\n",
    "The model trained on pre-2000 data is very bad at predicting scores post-2000."
   ]
  },
  {
   "cell_type": "code",
   "execution_count": 83,
   "metadata": {},
   "outputs": [],
   "source": [
    "#3.3\n",
    "\n",
    "# Make a series of the residual\n",
    "residual_dist = y_test_long - y_pred_long"
   ]
  },
  {
   "cell_type": "code",
   "execution_count": 105,
   "metadata": {},
   "outputs": [
    {
     "data": {
      "image/png": "[encoded data removed]",
      "text/plain": [
       "<Figure size 576x396 with 2 Axes>"
      ]
     },
     "metadata": {},
     "output_type": "display_data"
    },
    {
     "data": {
      "text/plain": [
       "<AxesSubplot:title={'center':'Residuals for LinearRegression Model'}, xlabel='Predicted Value', ylabel='Residuals'>"
      ]
     },
     "execution_count": 105,
     "metadata": {},
     "output_type": "execute_result"
    }
   ],
   "source": [
    "model = LinearRegression()\n",
    "visualizer = ResidualsPlot(model)\n",
    "\n",
    "# Fit the training data to the visualizer\n",
    "visualizer.fit(x_train_long, y_train_long)  \n",
    "# Evaluate the model on the test data\n",
    "visualizer.score(x_test_long, y_test_long)  \n",
    "visualizer.show() "
   ]
  },
  {
   "cell_type": "code",
   "execution_count": 29,
   "metadata": {},
   "outputs": [
    {
     "name": "stdout",
     "output_type": "stream",
     "text": [
      "Probability that it is off by more than 2: 0.011190992946283234\n"
     ]
    }
   ],
   "source": [
    "# Calculate the probability that its off by more than 2\n",
    "print('Probability that it is off by more than 2:', len(residual_dist[residual_dist >= 2])/len(residual_dist))"
   ]
  },
  {
   "cell_type": "code",
   "execution_count": 30,
   "metadata": {},
   "outputs": [
    {
     "name": "stdout",
     "output_type": "stream",
     "text": [
      "95% bootstrapped confidence intervals: [-0.14423477147132419, -0.10413739480271278]\n"
     ]
    }
   ],
   "source": [
    "def bootstrap_CI(data, nbr_draws):\n",
    "    means = np.zeros(nbr_draws)\n",
    "    data = np.array(data)\n",
    "\n",
    "    for n in range(nbr_draws):\n",
    "        indices = np.random.randint(0, len(data), len(data))\n",
    "        data_tmp = data[indices] \n",
    "        means[n] = np.nanmean(data_tmp)\n",
    "\n",
    "    return [np.nanpercentile(means, 2.5),np.nanpercentile(means, 97.5)]\n",
    "\n",
    "print(\"95% bootstrapped confidence intervals: {}\".format(bootstrap_CI(residual_dist, 1000)))"
   ]
  },
  {
   "cell_type": "code",
   "execution_count": 31,
   "metadata": {},
   "outputs": [],
   "source": [
    "#3.4\n",
    "\n",
    "# Using Grading boosting regressor\n",
    "reg = GradientBoostingRegressor()\n",
    "reg.fit(x_train_long, y_train_long)\n",
    "boost_pred = reg.predict(x_test_long)"
   ]
  },
  {
   "cell_type": "code",
   "execution_count": 32,
   "metadata": {},
   "outputs": [
    {
     "name": "stdout",
     "output_type": "stream",
     "text": [
      "R2 score: -0.307016507976434\n"
     ]
    }
   ],
   "source": [
    "print(\"R2 score: {}\".format(r2_score(y_test_long, boost_pred)))"
   ]
  },
  {
   "cell_type": "markdown",
   "metadata": {},
   "source": [
    "##### 3.5\n",
    "**Discuss:** Hypothesize a reason for the difference in performance between the Linear regression and the Gradient Boosting Regressor.\n",
    "\n",
    "One of the assumptions of linear regression is homoscedasticity. From the residual plot in 3.3, we can see that the residual does not have a constant variance. Hence, the gradient boosting regressor should perform better.\n",
    "\n",
    "On the other hand there is a clear difference in mean score in pre-2000 data compared to data after 2000 as discussed earlier. The difference might be because using pre 2000 data to predict after 2003 data could have a bad fit. The linear regression could be bad at fitting pre-2000 data. The gradient boosting regressor could be better at fitting the 2000 data, which could in turn be even worse at predicting data after 2003."
   ]
  },
  {
   "cell_type": "markdown",
   "metadata": {},
   "source": [
    "**Task 4 (Are we solving the correct problem? — 16 pts)**\n",
    "\n",
    "All your efforts so far have assumed that decisions are taken at the \"album\" level, which is often not the case for bands with multiple albums. In those cases, it could be interesting to predict what is the success of a given band album given the features of the album **and of previous albums**.\n",
    "\n",
    "1. Create a new dataframe that contains one row per band with more than 1 album. This dataframe should have the same columns as the data provided to you, considering the latest album of the respective band (note that this is determined by the release year of the album, not the date when it was reviewed). Additionally, for each feature considered in Task 3.1 (including the one-hot encoded features), create an additional column post-fixed with `_previous` (e.g., `danceability_previous`). These columns should contain the average values for all of the band's previous albums. Also, create a column `score_previous` with the average score of previous albums. Print the number of rows in the dataframe as well as the name of the columns.\n",
    "\n",
    "2. Train a Gradient Boosting Regressor considering all features created in Task 4.1 (note that `score` is the outcome and everything else is a feature, including `score_previous`). Use the 70/30 random train-test split, the default hyperparameters, and report the $R^2$ for the testing set. \n",
    "\n",
    "3. Can hyperparameter tuning improve your model? Write modular code (i.e., a function) to divide your training data into $N$ folds and perform cross-validation. Experiment tuning two hyperparameters of the Gradient Boosting Regressor: `n_estimators` and `learning_rate`. For each possible combination of the two hyperparameters (see below for the range of values that you should try for each hyperparameter), train your model in a cross-validation setup with $N=20$ folds. Report the mean  $R^2$ along with the 90% CI for each scenario. \n",
    "    - n_estimators $ \\in  \\{ 100, 200, 300, 400\\}$\n",
    "    - learning_rate $ \\in  \\{ 0.1, 0.05, 0.01\\}$.\n",
    " \n",
    " With the best hyperparameters obtained, train your model with the entire training set and report the $R^2$ on the testing set.\n",
    " \n",
    "4. **Discuss:** How do these results compare with the previous setup (the scenario considered in **Task 3.4**)? Point out two reasons why it is hard to compare the results obtained in 4.3 and 3.4 at face value? How would you fairly compare the two different setups?\n",
    "\n",
    "---"
   ]
  },
  {
   "cell_type": "code",
   "execution_count": 33,
   "metadata": {},
   "outputs": [],
   "source": [
    "# 4.1\n",
    "\n",
    "# Create a function to extract a list containing the artists with multiple albums\n",
    "def get_artists_with_multiple_albums(df):\n",
    "    number_of_alb_df = df.groupby(['artist']).size()\n",
    "    N = number_of_alb_df.shape[0]\n",
    "    artists_list= []\n",
    "    albums_per_artist = []\n",
    "    for ii in range(0,N):\n",
    "        n_albums = number_of_alb_df.iloc[ii]\n",
    "        if (n_albums>1):\n",
    "            artist = number_of_alb_df.index[ii]\n",
    "            artists_list.append(artist)\n",
    "            albums_per_artist.append(number_of_alb_df[ii])\n",
    "    return artists_list"
   ]
  },
  {
   "cell_type": "code",
   "execution_count": 34,
   "metadata": {},
   "outputs": [
    {
     "name": "stdout",
     "output_type": "stream",
     "text": [
      "Number of artists with multiple albums: 3561\n"
     ]
    }
   ],
   "source": [
    "artists_list = get_artists_with_multiple_albums(df)\n",
    "print('Number of artists with multiple albums:', len(artists_list))"
   ]
  },
  {
   "cell_type": "code",
   "execution_count": 35,
   "metadata": {},
   "outputs": [],
   "source": [
    "# Create a data frame (df_ma) by keeping only the rows that contain artists with multiple albums\n",
    "df_ma = df.loc[df['artist'].isin(artists_list)]"
   ]
  },
  {
   "cell_type": "code",
   "execution_count": 36,
   "metadata": {},
   "outputs": [],
   "source": [
    "'''\n",
    "function (create_df_with_multiple_artists) creates a dataframe that its rows only contain multiple artists and \n",
    "computes the avearge for the previous values.\n",
    "'''\n",
    "def create_df_with_multiple_artists(df,artists_list):\n",
    "#   INPUTS: \n",
    "\n",
    "#  df: input dataframe, it should contain only rows for artists with multiple albums\n",
    "\n",
    "#  artists_list: list containing the artists with multiple albums\n",
    "\n",
    "\n",
    "#  OUTPUTS: \n",
    "\n",
    "#  df_task: dataframe with only rows for artists with multiple albums and the previous values\n",
    "\n",
    "\n",
    "    basic_columns = df.columns.values\n",
    "    pre_columns =  basic_columns.copy()\n",
    "    pre_cols_clean = np.delete(pre_columns,[0,1,2,5,6,7])\n",
    "    string = '_previous'\n",
    "    pre_cols_clean_labeled = [x + string for x in pre_cols_clean]\n",
    "    full_list_of_cols = np.concatenate((basic_columns, pre_cols_clean_labeled))\n",
    "    df_task4 =  pd.DataFrame(columns=full_list_of_cols,index=[0])\n",
    "    N = len(artists_list)\n",
    "    for ii in range(0,N):\n",
    "        artist = artists_list[ii]\n",
    "        artist_block_df = df[df['artist']==artist]\n",
    "        artist_block_df_sorted = artist_block_df.sort_values(by=['releaseyear'],ascending=False)\n",
    "        years_sorted = artist_block_df_sorted['releaseyear']\n",
    "        if ( (years_sorted.iloc[0]) > (years_sorted.iloc[1]) ):\n",
    "            current_row =  artist_block_df_sorted.iloc[0:1,:]\n",
    "            for idx,newcol in enumerate(pre_cols_clean_labeled):\n",
    "                current_row[newcol] = artist_block_df_sorted[pre_cols_clean[idx]].iloc[1:].mean()\n",
    "            df_task4.loc[ii,:] = current_row.iloc[0,:]\n",
    "        elif ( (years_sorted.iloc[0]) == (years_sorted.iloc[1]) ):\n",
    "            artist_block_df_sorted_chosen = artist_block_df_sorted.loc[artist_block_df_sorted['releaseyear']==years_sorted.iloc[0]]\n",
    "            artist_block_df_sorted_chosen_sorted_again = artist_block_df.sort_values(by=['reviewdate'],ascending=False)\n",
    "            current_row =  artist_block_df_sorted_chosen_sorted_again.iloc[0:1,:]\n",
    "            for idx,newcol in enumerate(pre_cols_clean_labeled):\n",
    "                current_row[newcol] = artist_block_df_sorted_chosen_sorted_again[pre_cols_clean[idx]].iloc[1:].mean()\n",
    "            df_task4.loc[ii,:] =current_row.iloc[0,:]\n",
    "        \n",
    "    return df_task4"
   ]
  },
  {
   "cell_type": "code",
   "execution_count": 117,
   "metadata": {},
   "outputs": [],
   "source": [
    "pd.options.mode.chained_assignment = None  # default='warn'\n",
    "df_task4 = create_df_with_multiple_artists(df_ma,artists_list)"
   ]
  },
  {
   "cell_type": "code",
   "execution_count": 123,
   "metadata": {},
   "outputs": [
    {
     "name": "stdout",
     "output_type": "stream",
     "text": [
      "The number of rows is  3561 \n",
      "\n",
      "The columns names are: \n",
      "artist\n",
      "album\n",
      "reviewauthor\n",
      "score\n",
      "releaseyear\n",
      "reviewdate\n",
      "recordlabel\n",
      "genre\n",
      "danceability\n",
      "energy\n",
      "key\n",
      "loudness\n",
      "speechiness\n",
      "acousticness\n",
      "instrumentalness\n",
      "liveness\n",
      "valence\n",
      "tempo\n",
      "Electronic_onehot\n",
      "Folk/Country_onehot\n",
      "Rock_onehot\n",
      "Rap_onehot\n",
      "Global_onehot\n",
      "Experimental_onehot\n",
      "Metal_onehot\n",
      "Pop/R&B_onehot\n",
      "Jazz_onehot\n",
      "Other_onehot\n",
      "score_previous\n",
      "releaseyear_previous\n",
      "danceability_previous\n",
      "energy_previous\n",
      "key_previous\n",
      "loudness_previous\n",
      "speechiness_previous\n",
      "acousticness_previous\n",
      "instrumentalness_previous\n",
      "liveness_previous\n",
      "valence_previous\n",
      "tempo_previous\n",
      "Electronic_onehot_previous\n",
      "Folk/Country_onehot_previous\n",
      "Rock_onehot_previous\n",
      "Rap_onehot_previous\n",
      "Global_onehot_previous\n",
      "Experimental_onehot_previous\n",
      "Metal_onehot_previous\n",
      "Pop/R&B_onehot_previous\n",
      "Jazz_onehot_previous\n",
      "Other_onehot_previous\n"
     ]
    }
   ],
   "source": [
    "print('The number of rows is ',df_task4.shape[0], \"\\n\")\n",
    "print('The columns names are: ')\n",
    "for col in df_task4.columns:\n",
    "    print(col)"
   ]
  },
  {
   "cell_type": "code",
   "execution_count": 124,
   "metadata": {},
   "outputs": [],
   "source": [
    "# 4.2\n",
    "\n",
    "# Drop categorical rows\n",
    "df_task4_dropped = df_task4.drop(['artist','album','reviewauthor','reviewdate','recordlabel','genre'],axis=1)\n",
    "X = df_task4_dropped.drop(['score'], axis=1)\n",
    "y = df_task4_dropped['score']\n",
    "\n",
    "# Split data \n",
    "X_train, X_test, y_train, y_test = train_test_split(X, y, test_size=0.30, random_state=123)\n",
    "\n",
    "# Gradient Boosting Regressor\n",
    "reg = GradientBoostingRegressor()\n",
    "reg.fit(X_train, y_train)\n",
    "boost_pred = reg.predict(X_test)"
   ]
  },
  {
   "cell_type": "code",
   "execution_count": 128,
   "metadata": {},
   "outputs": [
    {
     "name": "stdout",
     "output_type": "stream",
     "text": [
      "R2 score: 0.23228596920589994\n"
     ]
    }
   ],
   "source": [
    "print(\"R2 score: {}\".format(r2_score(y_test,boost_pred)))"
   ]
  },
  {
   "cell_type": "code",
   "execution_count": 129,
   "metadata": {},
   "outputs": [
    {
     "data": {
      "text/plain": [
       "(3561, 44)"
      ]
     },
     "execution_count": 129,
     "metadata": {},
     "output_type": "execute_result"
    }
   ],
   "source": [
    "df_task4_dropped.shape"
   ]
  },
  {
   "cell_type": "code",
   "execution_count": 130,
   "metadata": {},
   "outputs": [],
   "source": [
    "# 4.3\n",
    "\n",
    "from sklearn.model_selection import GridSearchCV\n",
    "\n",
    "reg = GradientBoostingRegressor()\n",
    "param_grid = {\n",
    "    'n_estimators':[100,200,300,400],\n",
    "    'learning_rate':[0.1,0.05,0.01]\n",
    "}\n",
    "\n",
    "grid_search = GridSearchCV(estimator = reg, param_grid = param_grid, cv = 20)"
   ]
  },
  {
   "cell_type": "code",
   "execution_count": 131,
   "metadata": {},
   "outputs": [
    {
     "data": {
      "text/plain": [
       "GridSearchCV(cv=20, estimator=GradientBoostingRegressor(),\n",
       "             param_grid={'learning_rate': [0.1, 0.05, 0.01],\n",
       "                         'n_estimators': [100, 200, 300, 400]})"
      ]
     },
     "execution_count": 131,
     "metadata": {},
     "output_type": "execute_result"
    }
   ],
   "source": [
    "grid_search.fit(X_train, y_train)"
   ]
  },
  {
   "cell_type": "code",
   "execution_count": 173,
   "metadata": {},
   "outputs": [],
   "source": [
    "Arr_with_params = grid_search.cv_results_[\"params\"]"
   ]
  },
  {
   "cell_type": "code",
   "execution_count": 174,
   "metadata": {},
   "outputs": [],
   "source": [
    "# Function to calculate CI \n",
    "def mean_confidence_interval(data, confidence=0.95):\n",
    "    a = 1.0 * np.array(data)\n",
    "    n = len(a)\n",
    "    m, se = np.mean(a), scipy.stats.sem(a)\n",
    "    h = se * scipy.stats.t.ppf((1 + confidence) / 2., n-1)\n",
    "    return m, m-h, m+h"
   ]
  },
  {
   "cell_type": "code",
   "execution_count": 175,
   "metadata": {
    "scrolled": true
   },
   "outputs": [
    {
     "name": "stdout",
     "output_type": "stream",
     "text": [
      "For {'learning_rate': 0.1, 'n_estimators': 100} the  mean  𝑅2 is  0.016 And the 95% CI is between -0.007  0.04\n",
      "For {'learning_rate': 0.1, 'n_estimators': 200} the  mean  𝑅2 is  0.136 And the 95% CI is between 0.12  0.152\n",
      "For {'learning_rate': 0.1, 'n_estimators': 300} the  mean  𝑅2 is  0.084 And the 95% CI is between 0.071  0.097\n",
      "For {'learning_rate': 0.1, 'n_estimators': 400} the  mean  𝑅2 is  0.213 And the 95% CI is between 0.189  0.238\n",
      "For {'learning_rate': 0.05, 'n_estimators': 100} the  mean  𝑅2 is  0.023 And the 95% CI is between -0.001  0.047\n",
      "For {'learning_rate': 0.05, 'n_estimators': 200} the  mean  𝑅2 is  0.1 And the 95% CI is between 0.068  0.133\n",
      "For {'learning_rate': 0.05, 'n_estimators': 300} the  mean  𝑅2 is  0.196 And the 95% CI is between 0.188  0.205\n",
      "For {'learning_rate': 0.05, 'n_estimators': 400} the  mean  𝑅2 is  0.183 And the 95% CI is between 0.167  0.199\n",
      "For {'learning_rate': 0.01, 'n_estimators': 100} the  mean  𝑅2 is  0.194 And the 95% CI is between 0.182  0.205\n",
      "For {'learning_rate': 0.01, 'n_estimators': 200} the  mean  𝑅2 is  0.185 And the 95% CI is between 0.176  0.194\n",
      "For {'learning_rate': 0.01, 'n_estimators': 300} the  mean  𝑅2 is  0.233 And the 95% CI is between 0.218  0.249\n",
      "For {'learning_rate': 0.01, 'n_estimators': 400} the  mean  𝑅2 is  0.239 And the 95% CI is between 0.226  0.251\n"
     ]
    }
   ],
   "source": [
    "for count,item in enumerate(Arr_with_params):\n",
    "    temp_arr = grid_search.cv_results_['split'+str(count)+'_test_score']\n",
    "    mean_m, mean_m_low, mean_m_high = mean_confidence_interval(temp_arr, confidence=0.90)\n",
    "    print('For',item,'the  mean  𝑅2 is ',round(mean_m, 3), 'And the 95% CI is between',round(mean_m_low, 3), '', round(mean_m_high, 3))"
   ]
  },
  {
   "cell_type": "code",
   "execution_count": 45,
   "metadata": {},
   "outputs": [
    {
     "name": "stdout",
     "output_type": "stream",
     "text": [
      "R2 score: 0.238078835998898\n"
     ]
    }
   ],
   "source": [
    "# Best hyper paramters are 'learning_rate': 0.01, 'n_estimators': 400 with R2 of 0.239 and CI of 0.226  0.251\n",
    "# Train with all training data\n",
    "\n",
    "best_model = GradientBoostingRegressor(learning_rate = 0.01, n_estimators=400)\n",
    "best_model.fit(X_train, y_train)\n",
    "boost_pred = best_model.predict(X_test)\n",
    "print(\"R2 score: {}\".format(r2_score(y_test,boost_pred)))"
   ]
  },
  {
   "cell_type": "markdown",
   "metadata": {},
   "source": [
    "##### 4.4\n",
    "\n",
    "**Discuss:** How do these results compare with the previous setup (the scenario considered in **Task 3.4**)? Point out two reasons why it is hard to compare the results obtained in 4.3 and 3.4 at face value? How would you fairly compare the two different setups?\n",
    "\n",
    "**ANSWER:**\n",
    "\n",
    "The results here are completely different from the setup in task 3.4, as the R2 score value is positive and it indicates that our model seems to be fitting the data better than the models discussed in task 3 (even though 0.24 is a low R2 value it is still better than the negative values obtained in task 3 and it means that 24% of the variance in the score of different albums can be explained). \n",
    "\n",
    "It is hard to compare the values obtained in 4.3 and 3.4 because a number of reasons: \n",
    "1) in 3.4, we do not tune the hyperparameters of the model while in 4.3 we find the optimal hyperparameters. \n",
    "\n",
    "2) in 3.4, we split the data using an alternative train-test split (hereinafter referred to as \"the longitudinal split\"), where we train with data from albums released before 2000 and test with data from 2003 and after. In 4.3, we split the data randomly without considering the release year. \n",
    "\n",
    "\n",
    "To fairly compare the two setups, we have to:\n",
    "1) use the same splitting method (either the basic random split or the longitudinal split). And to be more accurate, we think it's better to train using the basic random split because older albums tend to have higher scores than newer albums (maybe even remove the old albums from the data to get more accurate predictions as for some reason the model might not be able to capture that from the release year feature).  \n",
    "\n",
    "2) We also need to tune the hyperparameters for task 3.4 as we did in 4.3. \n",
    "\n",
    "Then, we can **fairly** compare the performance of the two setups and see if it's better to predict at album level or by considering previous albums as well.\n",
    "\n"
   ]
  },
  {
   "cell_type": "markdown",
   "metadata": {},
   "source": [
    "## Part 2: Second Album Syndrome\n",
    "\n",
    "Your second project at *Piccardi Music* is to shed light on one of the business's oldest enigmas: the \"second album syndrome.\" In a nutshell, the \"second album syndrome\" is a theory that states that the second album of a band always sucks. ([Related read](https://tvtropes.org/pmwiki/pmwiki.php/Main/SophomoreSlump))\n",
    "\n",
    "Assume—for the purpose of this task—that the Pitchfork data contains all albums for all artists it covers (even though this might not be true in reality)."
   ]
  },
  {
   "cell_type": "markdown",
   "metadata": {
    "pycharm": {
     "name": "#%% md\n"
    }
   },
   "source": [
    "**Task 5 (Preliminary analyses — 8 pts)**\n",
    "\n",
    "You begin by carrying out some preliminary data processing and analyses.\n",
    "\n",
    "1. Create a new dataframe (from the original data with duplicates dropped, the same as you obtained after finishing Task 1.1) containing only albums from artists with two or more albums and where the release year is not empty.\n",
    "2. Create a new column `album_number` which indicates how many albums the artist has produced before this one (before the second album, the artist has already produced one album).\n",
    "3. Calculate the mean and the standard error fo the mean of the scores of the first and second albums in the dataset. Additionally, plot the two distributions. \n",
    "4. Use an appropriate method to determine if the difference in means of 1st and 2nd albums is statistically significant?\n",
    "5. **Discuss:** Do these analyses suggest that the \"second album syndrome\" exists?\n",
    "\n",
    "---"
   ]
  },
  {
   "cell_type": "code",
   "execution_count": 33,
   "metadata": {},
   "outputs": [
    {
     "data": {
      "text/html": [
       "<div>\n",
       "<style scoped>\n",
       "    .dataframe tbody tr th:only-of-type {\n",
       "        vertical-align: middle;\n",
       "    }\n",
       "\n",
       "    .dataframe tbody tr th {\n",
       "        vertical-align: top;\n",
       "    }\n",
       "\n",
       "    .dataframe thead th {\n",
       "        text-align: right;\n",
       "    }\n",
       "</style>\n",
       "<table border=\"1\" class=\"dataframe\">\n",
       "  <thead>\n",
       "    <tr style=\"text-align: right;\">\n",
       "      <th></th>\n",
       "      <th>artist</th>\n",
       "      <th>album</th>\n",
       "      <th>reviewauthor</th>\n",
       "      <th>score</th>\n",
       "      <th>releaseyear</th>\n",
       "      <th>reviewdate</th>\n",
       "      <th>recordlabel</th>\n",
       "      <th>genre</th>\n",
       "      <th>danceability</th>\n",
       "      <th>energy</th>\n",
       "      <th>key</th>\n",
       "      <th>loudness</th>\n",
       "      <th>speechiness</th>\n",
       "      <th>acousticness</th>\n",
       "      <th>instrumentalness</th>\n",
       "      <th>liveness</th>\n",
       "      <th>valence</th>\n",
       "      <th>tempo</th>\n",
       "    </tr>\n",
       "  </thead>\n",
       "  <tbody>\n",
       "    <tr>\n",
       "      <th>0</th>\n",
       "      <td>John Fahey</td>\n",
       "      <td>The Great Santa Barbara Oil Slick</td>\n",
       "      <td>Mark Richardson</td>\n",
       "      <td>8.2</td>\n",
       "      <td>2005.0</td>\n",
       "      <td>February 13 2005</td>\n",
       "      <td>Water</td>\n",
       "      <td>Folk/Country</td>\n",
       "      <td>0.369765</td>\n",
       "      <td>0.325412</td>\n",
       "      <td>4.470588</td>\n",
       "      <td>-19.153824</td>\n",
       "      <td>0.148624</td>\n",
       "      <td>0.647053</td>\n",
       "      <td>0.559133</td>\n",
       "      <td>0.527782</td>\n",
       "      <td>0.179465</td>\n",
       "      <td>107.622647</td>\n",
       "    </tr>\n",
       "    <tr>\n",
       "      <th>1</th>\n",
       "      <td>Reigning Sound</td>\n",
       "      <td>Too Much Guitar</td>\n",
       "      <td>Stephen M. Deusner</td>\n",
       "      <td>8.3</td>\n",
       "      <td>2004.0</td>\n",
       "      <td>August 19 2004</td>\n",
       "      <td>In the Red</td>\n",
       "      <td>Electronic</td>\n",
       "      <td>0.253943</td>\n",
       "      <td>0.912857</td>\n",
       "      <td>4.428571</td>\n",
       "      <td>-1.089500</td>\n",
       "      <td>0.055500</td>\n",
       "      <td>0.000253</td>\n",
       "      <td>0.751214</td>\n",
       "      <td>0.199071</td>\n",
       "      <td>0.552786</td>\n",
       "      <td>133.895500</td>\n",
       "    </tr>\n",
       "    <tr>\n",
       "      <th>2</th>\n",
       "      <td>Mac Miller</td>\n",
       "      <td>Swimming</td>\n",
       "      <td>Evan Rytlewski</td>\n",
       "      <td>7.5</td>\n",
       "      <td>2018.0</td>\n",
       "      <td>August 3 2018</td>\n",
       "      <td>Warner Bros.</td>\n",
       "      <td>Rap</td>\n",
       "      <td>0.624846</td>\n",
       "      <td>0.438154</td>\n",
       "      <td>4.153846</td>\n",
       "      <td>-9.456077</td>\n",
       "      <td>0.170246</td>\n",
       "      <td>0.652462</td>\n",
       "      <td>0.012819</td>\n",
       "      <td>0.121131</td>\n",
       "      <td>0.281138</td>\n",
       "      <td>122.121308</td>\n",
       "    </tr>\n",
       "    <tr>\n",
       "      <th>3</th>\n",
       "      <td>French Kicks</td>\n",
       "      <td>Swimming</td>\n",
       "      <td>Roque Strew</td>\n",
       "      <td>7.6</td>\n",
       "      <td>2008.0</td>\n",
       "      <td>August 27 2008</td>\n",
       "      <td>Vagrant</td>\n",
       "      <td>Electronic</td>\n",
       "      <td>0.624846</td>\n",
       "      <td>0.438154</td>\n",
       "      <td>4.153846</td>\n",
       "      <td>-9.456077</td>\n",
       "      <td>0.170246</td>\n",
       "      <td>0.652462</td>\n",
       "      <td>0.012819</td>\n",
       "      <td>0.121131</td>\n",
       "      <td>0.281138</td>\n",
       "      <td>122.121308</td>\n",
       "    </tr>\n",
       "    <tr>\n",
       "      <th>4</th>\n",
       "      <td>Jessica Lea Mayfield</td>\n",
       "      <td>With Blasphemy So Heartfelt</td>\n",
       "      <td>Stephen M. Deusner</td>\n",
       "      <td>8.2</td>\n",
       "      <td>2008.0</td>\n",
       "      <td>November 11 2008</td>\n",
       "      <td>Polymer</td>\n",
       "      <td>Rock</td>\n",
       "      <td>0.447583</td>\n",
       "      <td>0.399083</td>\n",
       "      <td>6.500000</td>\n",
       "      <td>-8.402000</td>\n",
       "      <td>0.032267</td>\n",
       "      <td>0.694750</td>\n",
       "      <td>0.004033</td>\n",
       "      <td>0.123142</td>\n",
       "      <td>0.237933</td>\n",
       "      <td>111.549917</td>\n",
       "    </tr>\n",
       "  </tbody>\n",
       "</table>\n",
       "</div>"
      ],
      "text/plain": [
       "                 artist                              album  \\\n",
       "0            John Fahey  The Great Santa Barbara Oil Slick   \n",
       "1        Reigning Sound                    Too Much Guitar   \n",
       "2            Mac Miller                           Swimming   \n",
       "3          French Kicks                           Swimming   \n",
       "4  Jessica Lea Mayfield        With Blasphemy So Heartfelt   \n",
       "\n",
       "         reviewauthor  score  releaseyear        reviewdate   recordlabel  \\\n",
       "0     Mark Richardson    8.2       2005.0  February 13 2005         Water   \n",
       "1  Stephen M. Deusner    8.3       2004.0    August 19 2004    In the Red   \n",
       "2      Evan Rytlewski    7.5       2018.0     August 3 2018  Warner Bros.   \n",
       "3         Roque Strew    7.6       2008.0    August 27 2008       Vagrant   \n",
       "4  Stephen M. Deusner    8.2       2008.0  November 11 2008       Polymer   \n",
       "\n",
       "          genre  danceability    energy       key   loudness  speechiness  \\\n",
       "0  Folk/Country      0.369765  0.325412  4.470588 -19.153824     0.148624   \n",
       "1    Electronic      0.253943  0.912857  4.428571  -1.089500     0.055500   \n",
       "2           Rap      0.624846  0.438154  4.153846  -9.456077     0.170246   \n",
       "3    Electronic      0.624846  0.438154  4.153846  -9.456077     0.170246   \n",
       "4          Rock      0.447583  0.399083  6.500000  -8.402000     0.032267   \n",
       "\n",
       "   acousticness  instrumentalness  liveness   valence       tempo  \n",
       "0      0.647053          0.559133  0.527782  0.179465  107.622647  \n",
       "1      0.000253          0.751214  0.199071  0.552786  133.895500  \n",
       "2      0.652462          0.012819  0.121131  0.281138  122.121308  \n",
       "3      0.652462          0.012819  0.121131  0.281138  122.121308  \n",
       "4      0.694750          0.004033  0.123142  0.237933  111.549917  "
      ]
     },
     "execution_count": 33,
     "metadata": {},
     "output_type": "execute_result"
    }
   ],
   "source": [
    "# 5.1\n",
    "\n",
    "d5 = data.copy()\n",
    "# Do the same as after finishing Task 1.1\n",
    "d5.drop_duplicates(subset = ['artist','album'], keep = 'first',inplace = True)\n",
    "\n",
    "# List of all artists with less than two albums\n",
    "value = pd.DataFrame(d5['artist'].value_counts())\n",
    "lessThan2 = value.drop(value[value['artist'] >= 2].index).index\n",
    "\n",
    "# Removes all artist that hasn't produced two albums\n",
    "d5 = d5[~d5['artist'].isin(lessThan2)]\n",
    "d5 = d5.reset_index()\n",
    "d5 = d5.drop(columns=['index'])\n",
    "d5.head()"
   ]
  },
  {
   "cell_type": "code",
   "execution_count": 34,
   "metadata": {},
   "outputs": [
    {
     "data": {
      "text/plain": [
       "12409    7.0\n",
       "12088    1.0\n",
       "3325     1.0\n",
       "3261     1.0\n",
       "376      1.0\n",
       "Name: album_number, dtype: float64"
      ]
     },
     "execution_count": 34,
     "metadata": {},
     "output_type": "execute_result"
    }
   ],
   "source": [
    "# 5.2\n",
    "\n",
    "d5 = d5.sort_values(by=['releaseyear'], ascending=False)\n",
    "mask = np.zeros(d5.shape[0])\n",
    "\n",
    "for i in range(d5.shape[0]):\n",
    "    mask[i] = sum(d5.iloc[i]['artist'] == d5.iloc[i+1:]['artist'])\n",
    "d5['album_number'] = mask\n",
    "d5['album_number'].head()"
   ]
  },
  {
   "cell_type": "code",
   "execution_count": 35,
   "metadata": {},
   "outputs": [
    {
     "name": "stdout",
     "output_type": "stream",
     "text": [
      "First album - Mean: 7.296548821548822   Standard error of the mean: 0.02076505342146367\n",
      "Second album - Mean: 7.0420033670033675   Standard error of the mean: 0.02130636759493283\n"
     ]
    }
   ],
   "source": [
    "# 5.3.1\n",
    "\n",
    "first_album = d5[d5['album_number'] == 0]\n",
    "second_album = d5[d5['album_number'] == 1]\n",
    "\n",
    "print('First album - Mean: {}   Standard error of the mean: {}'.format(first_album['score'].mean(), sem(first_album['score'])))\n",
    "print('Second album - Mean: {}   Standard error of the mean: {}'.format(second_album['score'].mean(), sem(second_album['score'])))"
   ]
  },
  {
   "cell_type": "code",
   "execution_count": 36,
   "metadata": {},
   "outputs": [
    {
     "data": {
      "image/png": "[encoded data removed]",
      "text/plain": [
       "<Figure size 360x360 with 1 Axes>"
      ]
     },
     "metadata": {},
     "output_type": "display_data"
    },
    {
     "data": {
      "text/plain": [
       "Text(0, 0.5, 'Counts')"
      ]
     },
     "execution_count": 36,
     "metadata": {},
     "output_type": "execute_result"
    },
    {
     "data": {
      "image/png": "[encoded data removed]",
      "text/plain": [
       "<Figure size 576x396 with 1 Axes>"
      ]
     },
     "metadata": {},
     "output_type": "display_data"
    }
   ],
   "source": [
    "#5.3.2\n",
    "\n",
    "fs = pd.concat([first_album, second_album])\n",
    "fs.boxplot(by='album_number', column='score', figsize = [5, 5], grid=True)\n",
    "plt.show()\n",
    "#distribution \n",
    "score1 = first_album['score']\n",
    "score2 = second_album['score']\n",
    "\n",
    "score1.hist( bins = 20, alpha = 0.4)\n",
    "score2.hist(bins = 20, alpha = 0.4)\n",
    "plt.legend([\"First Album\", \"Second Album \"])\n",
    "plt.xlabel(\"Score of the albums\")\n",
    "plt.ylabel(\"Counts\")"
   ]
  },
  {
   "cell_type": "code",
   "execution_count": 37,
   "metadata": {},
   "outputs": [
    {
     "name": "stdout",
     "output_type": "stream",
     "text": [
      "(0.1181505568032693, 0.0009999999999998899)\n",
      "(0.1111415476362363, 0.0009999999999998899)\n"
     ]
    },
    {
     "data": {
      "text/plain": [
       "Ttest_indResult(statistic=8.55573289201752, pvalue=1.4190102387973813e-17)"
      ]
     },
     "execution_count": 37,
     "metadata": {},
     "output_type": "execute_result"
    }
   ],
   "source": [
    "#5.4\n",
    "\n",
    "# We want to use T test but we first need to check that the distribution is normal \n",
    "# Check if data come from a normal distrbution\n",
    "print(diagnostic.kstest_normal(first_album['score'], dist = 'norm'))\n",
    "print(diagnostic.kstest_normal(second_album['score'], dist = 'norm'))\n",
    "# We can see that the p values are not small so the hypothesis that they follow a normal distribution is not rejected. \n",
    "ttest_ind(first_album['score'], second_album['score'], equal_var=False)"
   ]
  },
  {
   "cell_type": "markdown",
   "metadata": {},
   "source": [
    "The p value is very small here, it is, in particular, less than 0.05. Hence we reject the null hypothesis that the means are the same. This means that there is a significant difference of the average score of the first and second album."
   ]
  },
  {
   "cell_type": "markdown",
   "metadata": {},
   "source": [
    "##### 5.5\n",
    "\n",
    "We calculated the p-value for an unpaired one-tailed test (since we want to know if the first album has a higher score than the second). The P-value for the t-test is very small, in particular, less than 0.05. Hence we reject the null hypothesis. This means that there is a significant difference so the score of the first album should be higher than the second album.\n",
    "\n",
    "Because of this t-test, we know that that the difference between the means is statistically significant. And we can see for the histograms, that the number of first album with score greater than 6 is are always bigger than the second album. And in contrary there are more second albums than first albums with score less than 6. All these informations confirms that the \"second album syndrome\" exists. "
   ]
  },
  {
   "cell_type": "markdown",
   "metadata": {},
   "source": [
    "**Task 6 (Regression analysis — 20 pts)**\n",
    "\n",
    "Next, you proceed to examine some hypotheses about the \"second album syndrome\" using a regression framework. Namely:\n",
    "\n",
    "- The **time spent hypothesis:**  the first album usually has a couple of years of development under its belt and plenty of trial and error from live concerts to help the band determine what does or doesn't work. The second album, on the other hand, is often made in a rush.\n",
    "\n",
    "- The **style change hypothesis:** bands often try to change their style after their first album. This change is not always welcomed by the listeners.\n",
    "\n",
    "1. Create a new dataframe containing one row per 1st-2nd album pair. The dataframe should contain rows:\n",
    "    - `score_diff`: the difference in scores between the second and the first album (second - first).\n",
    "    - `time_diff`: the number of days elapsed between the first and the second album.\n",
    "    - `did_style_change`: a dummy variable that indicates whether the style of the music has changed. To obtain it, first, calculate the [standardized euclidean distance](https://docs.scipy.org/doc/scipy/reference/generated/scipy.spatial.distance.seuclidean.html) of music-related numerical features¹ between the second and the first album. Second, assign 1 to the 20% most distant 1st-2nd album pairs and 0 to all others.\n",
    "2. Fit a linear regression using `statsmodels` with this dataframe. Your regression should consider only an intercept, i.e., `\"score_diff ~ 1\"`.\n",
    "3. **Discuss:** Interpret the $R^2$ in your regression here. Does this analysis confirm what you observed in Task 5? Why?\n",
    "4. Include the `time_diff` and `did_style_change` as covariates in your model. Fit the regression again and report the summary of your model. \n",
    "5. **Discuss:** Interpret the coefficients `time_diff` and `did_style_change`. Carefully explain whether they provide evidence towards each of the aforementioned hypotheses? Do they rule out other reasons that may cause the \"second album syndrome effect\"?\n",
    "6. Create a new column called `time_diff_standardized`. It should be a standardized version of the `time_diff` column. Repeat the regression done in 6.4 using the `time_diff_standardized` column instead of the `time_diff` column.\n",
    "7. **Discuss:** Explain how the interpretation of the coefficients associated with this new column `time_diff_standardized` differ from its non-standardized version \n",
    "`time_diff`?\n",
    "\n",
    "--- \n",
    "\n",
    "**¹** Music related numerical features are:  \"key\", \"acousticness\", \"danceability\", \"energy\", \"instrumentalness\", \"liveness\", \"loudness\", \"speechiness\", \"valence\", and \"tempo\".\n"
   ]
  },
  {
   "cell_type": "code",
   "execution_count": 38,
   "metadata": {},
   "outputs": [
    {
     "name": "stdout",
     "output_type": "stream",
     "text": [
      "(3564, 19)\n",
      "(3564, 19)\n"
     ]
    },
    {
     "data": {
      "text/html": [
       "<div>\n",
       "<style scoped>\n",
       "    .dataframe tbody tr th:only-of-type {\n",
       "        vertical-align: middle;\n",
       "    }\n",
       "\n",
       "    .dataframe tbody tr th {\n",
       "        vertical-align: top;\n",
       "    }\n",
       "\n",
       "    .dataframe thead th {\n",
       "        text-align: right;\n",
       "    }\n",
       "</style>\n",
       "<table border=\"1\" class=\"dataframe\">\n",
       "  <thead>\n",
       "    <tr style=\"text-align: right;\">\n",
       "      <th></th>\n",
       "      <th>artist</th>\n",
       "      <th>album</th>\n",
       "      <th>reviewauthor</th>\n",
       "      <th>score</th>\n",
       "      <th>releaseyear</th>\n",
       "      <th>reviewdate</th>\n",
       "      <th>recordlabel</th>\n",
       "      <th>genre</th>\n",
       "      <th>danceability</th>\n",
       "      <th>energy</th>\n",
       "      <th>key</th>\n",
       "      <th>loudness</th>\n",
       "      <th>speechiness</th>\n",
       "      <th>acousticness</th>\n",
       "      <th>instrumentalness</th>\n",
       "      <th>liveness</th>\n",
       "      <th>valence</th>\n",
       "      <th>tempo</th>\n",
       "      <th>album_number</th>\n",
       "    </tr>\n",
       "  </thead>\n",
       "  <tbody>\n",
       "    <tr>\n",
       "      <th>0</th>\n",
       "      <td>!!!</td>\n",
       "      <td>Split EP</td>\n",
       "      <td>Dominique Leone</td>\n",
       "      <td>6.0</td>\n",
       "      <td>1999.0</td>\n",
       "      <td>February 12 2004</td>\n",
       "      <td>GSL</td>\n",
       "      <td>Rock</td>\n",
       "      <td>0.470000</td>\n",
       "      <td>0.909500</td>\n",
       "      <td>6.000000</td>\n",
       "      <td>-4.112000</td>\n",
       "      <td>0.095600</td>\n",
       "      <td>0.000449</td>\n",
       "      <td>0.000000</td>\n",
       "      <td>0.177500</td>\n",
       "      <td>0.596500</td>\n",
       "      <td>97.046500</td>\n",
       "      <td>0.0</td>\n",
       "    </tr>\n",
       "    <tr>\n",
       "      <th>1</th>\n",
       "      <td>(Sandy) Alex G</td>\n",
       "      <td>Rocket</td>\n",
       "      <td>Ian Cohen</td>\n",
       "      <td>8.4</td>\n",
       "      <td>2017.0</td>\n",
       "      <td>May 19 2017</td>\n",
       "      <td>Domino</td>\n",
       "      <td>Rock</td>\n",
       "      <td>0.461143</td>\n",
       "      <td>0.588929</td>\n",
       "      <td>6.071429</td>\n",
       "      <td>-7.042714</td>\n",
       "      <td>0.049843</td>\n",
       "      <td>0.283422</td>\n",
       "      <td>0.313242</td>\n",
       "      <td>0.222736</td>\n",
       "      <td>0.462714</td>\n",
       "      <td>128.357714</td>\n",
       "      <td>0.0</td>\n",
       "    </tr>\n",
       "    <tr>\n",
       "      <th>2</th>\n",
       "      <td>...And You Will Know Us by the Trail of Dead</td>\n",
       "      <td>Madonna</td>\n",
       "      <td>Stuart Berman</td>\n",
       "      <td>8.7</td>\n",
       "      <td>1999.0</td>\n",
       "      <td>November 10 2019</td>\n",
       "      <td>none</td>\n",
       "      <td>Rock</td>\n",
       "      <td>0.614667</td>\n",
       "      <td>0.634583</td>\n",
       "      <td>5.750000</td>\n",
       "      <td>-7.213667</td>\n",
       "      <td>0.047150</td>\n",
       "      <td>0.324892</td>\n",
       "      <td>0.110828</td>\n",
       "      <td>0.220633</td>\n",
       "      <td>0.484750</td>\n",
       "      <td>118.323500</td>\n",
       "      <td>0.0</td>\n",
       "    </tr>\n",
       "  </tbody>\n",
       "</table>\n",
       "</div>"
      ],
      "text/plain": [
       "                                         artist     album     reviewauthor  \\\n",
       "0                                           !!!  Split EP  Dominique Leone   \n",
       "1                                (Sandy) Alex G    Rocket        Ian Cohen   \n",
       "2  ...And You Will Know Us by the Trail of Dead   Madonna    Stuart Berman   \n",
       "\n",
       "   score  releaseyear        reviewdate recordlabel genre  danceability  \\\n",
       "0    6.0       1999.0  February 12 2004         GSL  Rock      0.470000   \n",
       "1    8.4       2017.0       May 19 2017      Domino  Rock      0.461143   \n",
       "2    8.7       1999.0  November 10 2019        none  Rock      0.614667   \n",
       "\n",
       "     energy       key  loudness  speechiness  acousticness  instrumentalness  \\\n",
       "0  0.909500  6.000000 -4.112000     0.095600      0.000449          0.000000   \n",
       "1  0.588929  6.071429 -7.042714     0.049843      0.283422          0.313242   \n",
       "2  0.634583  5.750000 -7.213667     0.047150      0.324892          0.110828   \n",
       "\n",
       "   liveness   valence       tempo  album_number  \n",
       "0  0.177500  0.596500   97.046500           0.0  \n",
       "1  0.222736  0.462714  128.357714           0.0  \n",
       "2  0.220633  0.484750  118.323500           0.0  "
      ]
     },
     "execution_count": 38,
     "metadata": {},
     "output_type": "execute_result"
    }
   ],
   "source": [
    "# 6.1\n",
    "\n",
    "# Get the first and second albums and sort them by artist\n",
    "d6_first = d5[d5['album_number'] == 0].sort_values(by=['artist']).reset_index().drop(labels=['index'],axis=1)\n",
    "d6_second = d5[d5['album_number'] == 1].sort_values(by=['artist']).reset_index().drop(labels=['index'],axis=1)\n",
    "print(d6_first.shape)\n",
    "print(d6_second.shape)\n",
    "d6_first.head(3)"
   ]
  },
  {
   "cell_type": "code",
   "execution_count": 39,
   "metadata": {},
   "outputs": [
    {
     "data": {
      "text/plain": [
       "0    1.0\n",
       "1    0.2\n",
       "2   -0.1\n",
       "Name: score, dtype: float64"
      ]
     },
     "execution_count": 39,
     "metadata": {},
     "output_type": "execute_result"
    }
   ],
   "source": [
    "# Make a series for score_diff\n",
    "score_diff = d6_second['score'] - d6_first['score']\n",
    "score_diff.head(3)"
   ]
  },
  {
   "cell_type": "code",
   "execution_count": 40,
   "metadata": {},
   "outputs": [
    {
     "data": {
      "text/plain": [
       "0    1825.0\n",
       "1     730.0\n",
       "2     730.0\n",
       "Name: releaseyear, dtype: float64"
      ]
     },
     "execution_count": 40,
     "metadata": {},
     "output_type": "execute_result"
    }
   ],
   "source": [
    "# Make a series for time_diff assuming its 365 days in all years\n",
    "time_diff = (d6_second['releaseyear'] - d6_first['releaseyear'])*365\n",
    "time_diff.head(3)"
   ]
  },
  {
   "cell_type": "code",
   "execution_count": 41,
   "metadata": {},
   "outputs": [
    {
     "data": {
      "text/html": [
       "<div>\n",
       "<style scoped>\n",
       "    .dataframe tbody tr th:only-of-type {\n",
       "        vertical-align: middle;\n",
       "    }\n",
       "\n",
       "    .dataframe tbody tr th {\n",
       "        vertical-align: top;\n",
       "    }\n",
       "\n",
       "    .dataframe thead th {\n",
       "        text-align: right;\n",
       "    }\n",
       "</style>\n",
       "<table border=\"1\" class=\"dataframe\">\n",
       "  <thead>\n",
       "    <tr style=\"text-align: right;\">\n",
       "      <th></th>\n",
       "      <th>key</th>\n",
       "      <th>acousticness</th>\n",
       "      <th>danceability</th>\n",
       "      <th>energy</th>\n",
       "      <th>instrumentalness</th>\n",
       "      <th>liveness</th>\n",
       "      <th>loudness</th>\n",
       "      <th>speechiness</th>\n",
       "      <th>valence</th>\n",
       "      <th>tempo</th>\n",
       "    </tr>\n",
       "  </thead>\n",
       "  <tbody>\n",
       "    <tr>\n",
       "      <th>0</th>\n",
       "      <td>6.000000</td>\n",
       "      <td>0.000449</td>\n",
       "      <td>0.470000</td>\n",
       "      <td>0.909500</td>\n",
       "      <td>0.000000</td>\n",
       "      <td>0.177500</td>\n",
       "      <td>-4.112000</td>\n",
       "      <td>0.095600</td>\n",
       "      <td>0.596500</td>\n",
       "      <td>97.046500</td>\n",
       "    </tr>\n",
       "    <tr>\n",
       "      <th>1</th>\n",
       "      <td>6.071429</td>\n",
       "      <td>0.283422</td>\n",
       "      <td>0.461143</td>\n",
       "      <td>0.588929</td>\n",
       "      <td>0.313242</td>\n",
       "      <td>0.222736</td>\n",
       "      <td>-7.042714</td>\n",
       "      <td>0.049843</td>\n",
       "      <td>0.462714</td>\n",
       "      <td>128.357714</td>\n",
       "    </tr>\n",
       "    <tr>\n",
       "      <th>2</th>\n",
       "      <td>5.750000</td>\n",
       "      <td>0.324892</td>\n",
       "      <td>0.614667</td>\n",
       "      <td>0.634583</td>\n",
       "      <td>0.110828</td>\n",
       "      <td>0.220633</td>\n",
       "      <td>-7.213667</td>\n",
       "      <td>0.047150</td>\n",
       "      <td>0.484750</td>\n",
       "      <td>118.323500</td>\n",
       "    </tr>\n",
       "  </tbody>\n",
       "</table>\n",
       "</div>"
      ],
      "text/plain": [
       "        key  acousticness  danceability    energy  instrumentalness  liveness  \\\n",
       "0  6.000000      0.000449      0.470000  0.909500          0.000000  0.177500   \n",
       "1  6.071429      0.283422      0.461143  0.588929          0.313242  0.222736   \n",
       "2  5.750000      0.324892      0.614667  0.634583          0.110828  0.220633   \n",
       "\n",
       "   loudness  speechiness   valence       tempo  \n",
       "0 -4.112000     0.095600  0.596500   97.046500  \n",
       "1 -7.042714     0.049843  0.462714  128.357714  \n",
       "2 -7.213667     0.047150  0.484750  118.323500  "
      ]
     },
     "execution_count": 41,
     "metadata": {},
     "output_type": "execute_result"
    }
   ],
   "source": [
    "# Make one dataframe for each of the first and second albums only including features that is related to style change\n",
    "style_change_df_a = d6_first[['key', 'acousticness', 'danceability', 'energy', 'instrumentalness', 'liveness', 'loudness', 'speechiness', 'valence', 'tempo']]\n",
    "style_change_df_b = d6_second[['key', 'acousticness', 'danceability', 'energy', 'instrumentalness', 'liveness', 'loudness', 'speechiness', 'valence', 'tempo']]\n",
    "style_change_df_a.head(3)"
   ]
  },
  {
   "cell_type": "code",
   "execution_count": 42,
   "metadata": {},
   "outputs": [],
   "source": [
    "# Calculate the standardized euclidean distance between the features of the first and second albums\n",
    "style_change_num = []\n",
    "for i in range(len(style_change_df_a)):\n",
    "    style_change_num.append(seuclidean(style_change_df_a.iloc[i].to_numpy(), \n",
    "                                       style_change_df_b.iloc[i].to_numpy(), \n",
    "                                       np.ones(style_change_df_a.shape[1])))"
   ]
  },
  {
   "cell_type": "code",
   "execution_count": 43,
   "metadata": {},
   "outputs": [
    {
     "name": "stdout",
     "output_type": "stream",
     "text": [
      "treshhold value for style change: 24.271989134973573\n"
     ]
    }
   ],
   "source": [
    "# Make a copy of the euclid dist and sort it\n",
    "r = style_change_num.copy()\n",
    "r.sort()\n",
    "\n",
    "ind = math.floor(len(style_change_num)*0.8)\n",
    "# Find the threshhold value for the largest 20% of values\n",
    "tresh = r[ind]\n",
    "print('treshhold value for style change:', tresh)"
   ]
  },
  {
   "cell_type": "code",
   "execution_count": 44,
   "metadata": {},
   "outputs": [
    {
     "data": {
      "text/html": [
       "<div>\n",
       "<style scoped>\n",
       "    .dataframe tbody tr th:only-of-type {\n",
       "        vertical-align: middle;\n",
       "    }\n",
       "\n",
       "    .dataframe tbody tr th {\n",
       "        vertical-align: top;\n",
       "    }\n",
       "\n",
       "    .dataframe thead th {\n",
       "        text-align: right;\n",
       "    }\n",
       "</style>\n",
       "<table border=\"1\" class=\"dataframe\">\n",
       "  <thead>\n",
       "    <tr style=\"text-align: right;\">\n",
       "      <th></th>\n",
       "      <th>score_diff</th>\n",
       "      <th>time_diff</th>\n",
       "      <th>did_style_change</th>\n",
       "    </tr>\n",
       "  </thead>\n",
       "  <tbody>\n",
       "    <tr>\n",
       "      <th>0</th>\n",
       "      <td>1.0</td>\n",
       "      <td>1825.0</td>\n",
       "      <td>0</td>\n",
       "    </tr>\n",
       "    <tr>\n",
       "      <th>1</th>\n",
       "      <td>0.2</td>\n",
       "      <td>730.0</td>\n",
       "      <td>0</td>\n",
       "    </tr>\n",
       "    <tr>\n",
       "      <th>2</th>\n",
       "      <td>-0.1</td>\n",
       "      <td>730.0</td>\n",
       "      <td>0</td>\n",
       "    </tr>\n",
       "    <tr>\n",
       "      <th>3</th>\n",
       "      <td>0.0</td>\n",
       "      <td>0.0</td>\n",
       "      <td>0</td>\n",
       "    </tr>\n",
       "    <tr>\n",
       "      <th>4</th>\n",
       "      <td>-2.1</td>\n",
       "      <td>2190.0</td>\n",
       "      <td>0</td>\n",
       "    </tr>\n",
       "    <tr>\n",
       "      <th>5</th>\n",
       "      <td>-0.2</td>\n",
       "      <td>1460.0</td>\n",
       "      <td>0</td>\n",
       "    </tr>\n",
       "    <tr>\n",
       "      <th>6</th>\n",
       "      <td>-3.2</td>\n",
       "      <td>730.0</td>\n",
       "      <td>1</td>\n",
       "    </tr>\n",
       "  </tbody>\n",
       "</table>\n",
       "</div>"
      ],
      "text/plain": [
       "   score_diff  time_diff  did_style_change\n",
       "0         1.0     1825.0                 0\n",
       "1         0.2      730.0                 0\n",
       "2        -0.1      730.0                 0\n",
       "3         0.0        0.0                 0\n",
       "4        -2.1     2190.0                 0\n",
       "5        -0.2     1460.0                 0\n",
       "6        -3.2      730.0                 1"
      ]
     },
     "execution_count": 44,
     "metadata": {},
     "output_type": "execute_result"
    }
   ],
   "source": [
    "# Assign 1 to values over threshhold else 0\n",
    "did_style_change = np.where(np.array(style_change_num) >= tresh, 1, 0)\n",
    "\n",
    "# Turn the series into a dataframe and display it\n",
    "df6_dict = {'score_diff' : score_diff, 'time_diff' : time_diff, 'did_style_change' : did_style_change}\n",
    "df6 = pd.DataFrame(df6_dict)\n",
    "df6.head(7)"
   ]
  },
  {
   "cell_type": "code",
   "execution_count": 45,
   "metadata": {},
   "outputs": [
    {
     "name": "stdout",
     "output_type": "stream",
     "text": [
      "                            OLS Regression Results                            \n",
      "==============================================================================\n",
      "Dep. Variable:             score_diff   R-squared:                       0.000\n",
      "Model:                            OLS   Adj. R-squared:                  0.000\n",
      "Method:                 Least Squares   F-statistic:                       nan\n",
      "Date:                Fri, 26 Nov 2021   Prob (F-statistic):                nan\n",
      "Time:                        21:18:51   Log-Likelihood:                -6222.4\n",
      "No. Observations:                3564   AIC:                         1.245e+04\n",
      "Df Residuals:                    3563   BIC:                         1.245e+04\n",
      "Df Model:                           0                                         \n",
      "Covariance Type:            nonrobust                                         \n",
      "==============================================================================\n",
      "                 coef    std err          t      P>|t|      [0.025      0.975]\n",
      "------------------------------------------------------------------------------\n",
      "Intercept     -0.2545      0.023    -10.957      0.000      -0.300      -0.209\n",
      "==============================================================================\n",
      "Omnibus:                      364.555   Durbin-Watson:                   1.974\n",
      "Prob(Omnibus):                  0.000   Jarque-Bera (JB):             2234.093\n",
      "Skew:                          -0.276   Prob(JB):                         0.00\n",
      "Kurtosis:                       6.839   Cond. No.                         1.00\n",
      "==============================================================================\n",
      "\n",
      "Notes:\n",
      "[1] Standard Errors assume that the covariance matrix of the errors is correctly specified.\n"
     ]
    }
   ],
   "source": [
    "# 6.2\n",
    "\n",
    "results = smf.ols('score_diff ~ 1', data=df6).fit()\n",
    "print(results.summary())"
   ]
  },
  {
   "cell_type": "markdown",
   "metadata": {},
   "source": [
    "##### 6.3\n",
    "\n",
    "**Discuss:** Interpret the  𝑅2  in your regression here. Does this analysis confirm what you observed in Task 5? Why?\n",
    "\n",
    "The R2 is 0 in this regression. It means 0 of the proportion of the variance for a dependent variable is explained by no independent variable in the regression model. This confirms that the score difference is not due to randomness or noise."
   ]
  },
  {
   "cell_type": "code",
   "execution_count": 46,
   "metadata": {},
   "outputs": [
    {
     "name": "stdout",
     "output_type": "stream",
     "text": [
      "                            OLS Regression Results                            \n",
      "==============================================================================\n",
      "Dep. Variable:             score_diff   R-squared:                       0.020\n",
      "Model:                            OLS   Adj. R-squared:                  0.019\n",
      "Method:                 Least Squares   F-statistic:                     35.57\n",
      "Date:                Fri, 26 Nov 2021   Prob (F-statistic):           5.07e-16\n",
      "Time:                        21:18:51   Log-Likelihood:                -6187.1\n",
      "No. Observations:                3564   AIC:                         1.238e+04\n",
      "Df Residuals:                    3561   BIC:                         1.240e+04\n",
      "Df Model:                           2                                         \n",
      "Covariance Type:            nonrobust                                         \n",
      "====================================================================================\n",
      "                       coef    std err          t      P>|t|      [0.025      0.975]\n",
      "------------------------------------------------------------------------------------\n",
      "Intercept           -0.1421      0.030     -4.784      0.000      -0.200      -0.084\n",
      "time_diff        -9.457e-05   1.13e-05     -8.372      0.000      -0.000   -7.24e-05\n",
      "did_style_change     0.0584      0.058      1.015      0.310      -0.054       0.171\n",
      "==============================================================================\n",
      "Omnibus:                      335.592   Durbin-Watson:                   1.971\n",
      "Prob(Omnibus):                  0.000   Jarque-Bera (JB):             2053.463\n",
      "Skew:                          -0.209   Prob(JB):                         0.00\n",
      "Kurtosis:                       6.695   Cond. No.                     6.21e+03\n",
      "==============================================================================\n",
      "\n",
      "Notes:\n",
      "[1] Standard Errors assume that the covariance matrix of the errors is correctly specified.\n",
      "[2] The condition number is large, 6.21e+03. This might indicate that there are\n",
      "strong multicollinearity or other numerical problems.\n"
     ]
    }
   ],
   "source": [
    "# 6.4\n",
    "\n",
    "results3 = smf.ols('score_diff ~ time_diff + did_style_change', data=df6).fit()\n",
    "print(results3.summary())"
   ]
  },
  {
   "cell_type": "markdown",
   "metadata": {},
   "source": [
    "##### 6.5\n",
    "\n",
    "**Discuss:** Interpret the coefficients time_diff and did_style_change. Carefully explain whether they provide evidence towards each of the aforementioned hypotheses? Do they rule out other reasons that may cause the \"second album syndrome effect\"?\n",
    "\n",
    "The coefficient of time_diff is very small and negative, which can be seen as the score of an album decreses the longer the wait between the albums. Since it is very small, the effect won't be important. Style_change is slightly positive, so this means that an album that has a different style than the precedent generally have a better score. In fact, when reading the p-value associated to this variable, it is a big value and so the influence of the change is not explained and can be dut to chance.\n",
    "\n",
    "We don't know if they rule out other reasons that could cause the \"second album syndrome effect\"."
   ]
  },
  {
   "cell_type": "code",
   "execution_count": 47,
   "metadata": {
    "scrolled": true
   },
   "outputs": [
    {
     "name": "stdout",
     "output_type": "stream",
     "text": [
      "                            OLS Regression Results                            \n",
      "==============================================================================\n",
      "Dep. Variable:             score_diff   R-squared:                       0.020\n",
      "Model:                            OLS   Adj. R-squared:                  0.019\n",
      "Method:                 Least Squares   F-statistic:                     35.57\n",
      "Date:                Fri, 26 Nov 2021   Prob (F-statistic):           5.07e-16\n",
      "Time:                        21:18:51   Log-Likelihood:                -6187.1\n",
      "No. Observations:                3564   AIC:                         1.238e+04\n",
      "Df Residuals:                    3561   BIC:                         1.240e+04\n",
      "Df Model:                           2                                         \n",
      "Covariance Type:            nonrobust                                         \n",
      "==========================================================================================\n",
      "                             coef    std err          t      P>|t|      [0.025      0.975]\n",
      "------------------------------------------------------------------------------------------\n",
      "Intercept                 -0.2662      0.026    -10.348      0.000      -0.317      -0.216\n",
      "time_diff_standardized    -0.1927      0.023     -8.372      0.000      -0.238      -0.148\n",
      "did_style_change           0.0584      0.058      1.015      0.310      -0.054       0.171\n",
      "==============================================================================\n",
      "Omnibus:                      335.592   Durbin-Watson:                   1.971\n",
      "Prob(Omnibus):                  0.000   Jarque-Bera (JB):             2053.463\n",
      "Skew:                          -0.209   Prob(JB):                         0.00\n",
      "Kurtosis:                       6.695   Cond. No.                         2.62\n",
      "==============================================================================\n",
      "\n",
      "Notes:\n",
      "[1] Standard Errors assume that the covariance matrix of the errors is correctly specified.\n"
     ]
    }
   ],
   "source": [
    "# 6.6\n",
    "\n",
    "df6['time_diff_standardized'] = ((time_diff - time_diff.mean()) / time_diff.std())\n",
    "\n",
    "results5 = smf.ols('score_diff ~ time_diff_standardized + did_style_change', data=df6).fit()\n",
    "print(results5.summary())"
   ]
  },
  {
   "cell_type": "markdown",
   "metadata": {},
   "source": [
    "##### 6.7\n",
    "\n",
    "**Discuss:** Explain how the interpretation of the coefficients associated with this new column time_diff_standardized differ from its non-standardized version time_diff?\n",
    "\n",
    "With the standardized change we have a much larger effect, but it's negative which means that the score decreases due to longer time diff, which is the opposite of the hypothesis."
   ]
  },
  {
   "cell_type": "markdown",
   "metadata": {
    "pycharm": {
     "name": "#%% md\n"
    }
   },
   "source": [
    "**Task 7 (Sanity checks — 6 pts)**\n",
    "\n",
    "You decide to perform a few last sanity checks for your analysis.\n",
    "\n",
    "1.  **Discuss:** If the Second Album Syndrome existed, i.e., something was special about the second album (as in if it was bad for a very particular reason that afflicted album number 2 more than all others), what would you expect to happen to the mean score of the third album?\n",
    "2. Using the dataset you created in Task 5, calculate the mean and the standard error of the mean for the 1st, 2nd, 3rd, and 4th albums. Test whether the difference between the average score of the second and the third album is statistically significant.\n",
    "3. **Discuss:** Does this suggest that the Second Album Syndrome exists?\n",
    "\n",
    "---\n"
   ]
  },
  {
   "cell_type": "markdown",
   "metadata": {},
   "source": [
    "##### 7.1\n",
    "If the second Album Syndrome existed, this means that we want to show that this album in particular has a low score compared to the others (and not only the first album): So this means that we expect that the mean score of the third album to be better than the second one. "
   ]
  },
  {
   "cell_type": "code",
   "execution_count": 48,
   "metadata": {},
   "outputs": [
    {
     "name": "stdout",
     "output_type": "stream",
     "text": [
      "First album - Mean: 7.296548821548822   Standard error of the mean: 0.02076505342146367\n",
      "Second album - Mean: 7.0420033670033675    Standard error of the mean: 0.02130636759493283\n",
      "Third album - Mean: 7.053179487179488    Standard error of the mean: 0.02741993976718128\n",
      "Forth album - Mean: 7.042190152801359    Standard error of the mean: 0.03595891985530085\n",
      "\n",
      "Same shapes of second_album_3 and third_album: True\n"
     ]
    },
    {
     "data": {
      "text/plain": [
       "Ttest_indResult(statistic=3.7894886571072672, pvalue=0.00015323782176787393)"
      ]
     },
     "execution_count": 48,
     "metadata": {},
     "output_type": "execute_result"
    }
   ],
   "source": [
    "#7.2\n",
    "\n",
    "third_album = d5[d5['album_number'] == 2]\n",
    "forth_album = d5[d5['album_number'] == 3]\n",
    "\n",
    "print('First album - Mean: {}   Standard error of the mean: {}'.format(first_album['score'].mean(), sem(first_album['score'])))\n",
    "print('Second album - Mean: {}    Standard error of the mean: {}'.format(second_album['score'].mean(), sem(second_album['score'])))\n",
    "print('Third album - Mean: {}    Standard error of the mean: {}'.format(third_album['score'].mean(), sem(third_album['score'])))\n",
    "print('Forth album - Mean: {}    Standard error of the mean: {}'.format(forth_album['score'].mean(), sem(forth_album['score'])))\n",
    "\n",
    "print()\n",
    "\n",
    "#In order to compare the second and third album,we take the second album of an artist only if he had a third album:\n",
    "# The test will be more significative because if we let the artist who made only two album, we can't argue that with \n",
    "# the other third albums, the second album syndrom exists. \n",
    "artist3 = third_album['artist']\n",
    "second_album_3 = d5[(d5['artist'].isin(artist3))&(d5['album_number']==1)]\n",
    "\n",
    "# Check that the df have the same shapes\n",
    "print('Same shapes of second_album_3 and third_album:', second_album_3.shape == third_album.shape)\n",
    "\n",
    "# We know have to sets with same size, let's make the t-test : \n",
    "ttest_ind(second_album_3['score'],third_album['score'])"
   ]
  },
  {
   "cell_type": "markdown",
   "metadata": {},
   "source": [
    "##### 7.3\n",
    "The results that we get suggest that the Second Album Syndrome exists. First,in order to compare the third album with the second we first extracted all the artist from the second album that didn't have a third album. Otherwise the test won't have a big signification. When we did that, we found a p-value smaller than 0.05. Hence, the null hypthesis is rejected. The null hypothesis claims that the average score of the second and third album's score are equal. In conclusion, the difference between the average score of the second and the third album is statistically significant."
   ]
  },
  {
   "cell_type": "markdown",
   "metadata": {},
   "source": [
    "**Task 8 (Eureka — 14 pts)**\n",
    "\n",
    "Your boss, *Signor Piccardi*, proposes that you carry out a simulation to make things clearer. Assuming that:\n",
    "\n",
    "\n",
    "- Each band $i$ has a \"talent\" $\\mu_i$ , which is uniformally distributed between 2 and 8, i.e., $\\mu_i \\sim U_{[2,8]}$.\n",
    "- When a band $i$ produces an album $j$, it has quality $s_j$. This score is normally distributed with mean $\\mu_i$ and standard deviation $1$, i.e., $s_j \\sim N(\\mu_i, 1)$\n",
    "- Talents are independent and identically distributed random variables.\n",
    " \n",
    "Carry out the following simulation:\n",
    "\n",
    "- Create 1000 hypothetical bands with intrinsic talents $\\mu_i \\sim U_{[2,8]}$ for $i \\in [1,1000]$.\n",
    "- Have each hypothetical band create a hypothetical album.\n",
    "- Discard all bands whose albums received a score smaller than 6.\n",
    "- For each of the remaining bands, create two additional albums.\n",
    "\n",
    "Analyzing the scores obtained in this simulation, provide a coherent explanation for the  scores obtained in Task 7.2. \n",
    "\n",
    "--- \n",
    "\n",
    "**Hint:** You can use numpy to sample random variables (e.g. [numpy.random.normal](https://numpy.org/doc/stable/reference/random/generated/numpy.random.normal.html))"
   ]
  },
  {
   "cell_type": "code",
   "execution_count": 49,
   "metadata": {},
   "outputs": [],
   "source": [
    "#8\n",
    "\n",
    "j = {'talent' : np.random.uniform(low=2, high=8, size=1000)}"
   ]
  },
  {
   "cell_type": "code",
   "execution_count": 50,
   "metadata": {},
   "outputs": [
    {
     "data": {
      "text/html": [
       "<div>\n",
       "<style scoped>\n",
       "    .dataframe tbody tr th:only-of-type {\n",
       "        vertical-align: middle;\n",
       "    }\n",
       "\n",
       "    .dataframe tbody tr th {\n",
       "        vertical-align: top;\n",
       "    }\n",
       "\n",
       "    .dataframe thead th {\n",
       "        text-align: right;\n",
       "    }\n",
       "</style>\n",
       "<table border=\"1\" class=\"dataframe\">\n",
       "  <thead>\n",
       "    <tr style=\"text-align: right;\">\n",
       "      <th></th>\n",
       "      <th>talent</th>\n",
       "    </tr>\n",
       "  </thead>\n",
       "  <tbody>\n",
       "    <tr>\n",
       "      <th>0</th>\n",
       "      <td>6.871627</td>\n",
       "    </tr>\n",
       "    <tr>\n",
       "      <th>1</th>\n",
       "      <td>4.698023</td>\n",
       "    </tr>\n",
       "    <tr>\n",
       "      <th>2</th>\n",
       "      <td>4.047414</td>\n",
       "    </tr>\n",
       "    <tr>\n",
       "      <th>3</th>\n",
       "      <td>7.765254</td>\n",
       "    </tr>\n",
       "    <tr>\n",
       "      <th>4</th>\n",
       "      <td>4.647922</td>\n",
       "    </tr>\n",
       "    <tr>\n",
       "      <th>...</th>\n",
       "      <td>...</td>\n",
       "    </tr>\n",
       "    <tr>\n",
       "      <th>995</th>\n",
       "      <td>5.136158</td>\n",
       "    </tr>\n",
       "    <tr>\n",
       "      <th>996</th>\n",
       "      <td>6.181466</td>\n",
       "    </tr>\n",
       "    <tr>\n",
       "      <th>997</th>\n",
       "      <td>6.490871</td>\n",
       "    </tr>\n",
       "    <tr>\n",
       "      <th>998</th>\n",
       "      <td>2.400897</td>\n",
       "    </tr>\n",
       "    <tr>\n",
       "      <th>999</th>\n",
       "      <td>4.428922</td>\n",
       "    </tr>\n",
       "  </tbody>\n",
       "</table>\n",
       "<p>1000 rows × 1 columns</p>\n",
       "</div>"
      ],
      "text/plain": [
       "       talent\n",
       "0    6.871627\n",
       "1    4.698023\n",
       "2    4.047414\n",
       "3    7.765254\n",
       "4    4.647922\n",
       "..        ...\n",
       "995  5.136158\n",
       "996  6.181466\n",
       "997  6.490871\n",
       "998  2.400897\n",
       "999  4.428922\n",
       "\n",
       "[1000 rows x 1 columns]"
      ]
     },
     "execution_count": 50,
     "metadata": {},
     "output_type": "execute_result"
    }
   ],
   "source": [
    "# Create a dataframe for the bands with given talents\n",
    "bands = pd.DataFrame.from_dict(j)\n",
    "bands"
   ]
  },
  {
   "cell_type": "code",
   "execution_count": 51,
   "metadata": {},
   "outputs": [
    {
     "data": {
      "text/html": [
       "<div>\n",
       "<style scoped>\n",
       "    .dataframe tbody tr th:only-of-type {\n",
       "        vertical-align: middle;\n",
       "    }\n",
       "\n",
       "    .dataframe tbody tr th {\n",
       "        vertical-align: top;\n",
       "    }\n",
       "\n",
       "    .dataframe thead th {\n",
       "        text-align: right;\n",
       "    }\n",
       "</style>\n",
       "<table border=\"1\" class=\"dataframe\">\n",
       "  <thead>\n",
       "    <tr style=\"text-align: right;\">\n",
       "      <th></th>\n",
       "      <th>talent</th>\n",
       "      <th>album1</th>\n",
       "    </tr>\n",
       "  </thead>\n",
       "  <tbody>\n",
       "    <tr>\n",
       "      <th>0</th>\n",
       "      <td>6.871627</td>\n",
       "      <td>7.892303</td>\n",
       "    </tr>\n",
       "    <tr>\n",
       "      <th>1</th>\n",
       "      <td>4.698023</td>\n",
       "      <td>3.957742</td>\n",
       "    </tr>\n",
       "    <tr>\n",
       "      <th>2</th>\n",
       "      <td>4.047414</td>\n",
       "      <td>5.349886</td>\n",
       "    </tr>\n",
       "    <tr>\n",
       "      <th>3</th>\n",
       "      <td>7.765254</td>\n",
       "      <td>9.145514</td>\n",
       "    </tr>\n",
       "    <tr>\n",
       "      <th>4</th>\n",
       "      <td>4.647922</td>\n",
       "      <td>2.501527</td>\n",
       "    </tr>\n",
       "    <tr>\n",
       "      <th>...</th>\n",
       "      <td>...</td>\n",
       "      <td>...</td>\n",
       "    </tr>\n",
       "    <tr>\n",
       "      <th>995</th>\n",
       "      <td>5.136158</td>\n",
       "      <td>4.206952</td>\n",
       "    </tr>\n",
       "    <tr>\n",
       "      <th>996</th>\n",
       "      <td>6.181466</td>\n",
       "      <td>6.114456</td>\n",
       "    </tr>\n",
       "    <tr>\n",
       "      <th>997</th>\n",
       "      <td>6.490871</td>\n",
       "      <td>7.134349</td>\n",
       "    </tr>\n",
       "    <tr>\n",
       "      <th>998</th>\n",
       "      <td>2.400897</td>\n",
       "      <td>2.014860</td>\n",
       "    </tr>\n",
       "    <tr>\n",
       "      <th>999</th>\n",
       "      <td>4.428922</td>\n",
       "      <td>4.638561</td>\n",
       "    </tr>\n",
       "  </tbody>\n",
       "</table>\n",
       "<p>1000 rows × 2 columns</p>\n",
       "</div>"
      ],
      "text/plain": [
       "       talent    album1\n",
       "0    6.871627  7.892303\n",
       "1    4.698023  3.957742\n",
       "2    4.047414  5.349886\n",
       "3    7.765254  9.145514\n",
       "4    4.647922  2.501527\n",
       "..        ...       ...\n",
       "995  5.136158  4.206952\n",
       "996  6.181466  6.114456\n",
       "997  6.490871  7.134349\n",
       "998  2.400897  2.014860\n",
       "999  4.428922  4.638561\n",
       "\n",
       "[1000 rows x 2 columns]"
      ]
     },
     "execution_count": 51,
     "metadata": {},
     "output_type": "execute_result"
    }
   ],
   "source": [
    "# Create the score of the first album from the normal distribution of the talents\n",
    "bands['album1'] = np.random.normal(loc=bands['talent'], scale=1, size=1000)\n",
    "bands"
   ]
  },
  {
   "cell_type": "code",
   "execution_count": 52,
   "metadata": {},
   "outputs": [
    {
     "data": {
      "text/html": [
       "<div>\n",
       "<style scoped>\n",
       "    .dataframe tbody tr th:only-of-type {\n",
       "        vertical-align: middle;\n",
       "    }\n",
       "\n",
       "    .dataframe tbody tr th {\n",
       "        vertical-align: top;\n",
       "    }\n",
       "\n",
       "    .dataframe thead th {\n",
       "        text-align: right;\n",
       "    }\n",
       "</style>\n",
       "<table border=\"1\" class=\"dataframe\">\n",
       "  <thead>\n",
       "    <tr style=\"text-align: right;\">\n",
       "      <th></th>\n",
       "      <th>talent</th>\n",
       "      <th>album1</th>\n",
       "    </tr>\n",
       "  </thead>\n",
       "  <tbody>\n",
       "    <tr>\n",
       "      <th>0</th>\n",
       "      <td>6.871627</td>\n",
       "      <td>7.892303</td>\n",
       "    </tr>\n",
       "    <tr>\n",
       "      <th>3</th>\n",
       "      <td>7.765254</td>\n",
       "      <td>9.145514</td>\n",
       "    </tr>\n",
       "    <tr>\n",
       "      <th>5</th>\n",
       "      <td>7.876124</td>\n",
       "      <td>8.781971</td>\n",
       "    </tr>\n",
       "    <tr>\n",
       "      <th>6</th>\n",
       "      <td>7.475648</td>\n",
       "      <td>8.970883</td>\n",
       "    </tr>\n",
       "    <tr>\n",
       "      <th>8</th>\n",
       "      <td>6.037551</td>\n",
       "      <td>6.008424</td>\n",
       "    </tr>\n",
       "    <tr>\n",
       "      <th>...</th>\n",
       "      <td>...</td>\n",
       "      <td>...</td>\n",
       "    </tr>\n",
       "    <tr>\n",
       "      <th>983</th>\n",
       "      <td>7.945066</td>\n",
       "      <td>8.975181</td>\n",
       "    </tr>\n",
       "    <tr>\n",
       "      <th>984</th>\n",
       "      <td>7.131638</td>\n",
       "      <td>7.518084</td>\n",
       "    </tr>\n",
       "    <tr>\n",
       "      <th>993</th>\n",
       "      <td>7.061377</td>\n",
       "      <td>7.869644</td>\n",
       "    </tr>\n",
       "    <tr>\n",
       "      <th>996</th>\n",
       "      <td>6.181466</td>\n",
       "      <td>6.114456</td>\n",
       "    </tr>\n",
       "    <tr>\n",
       "      <th>997</th>\n",
       "      <td>6.490871</td>\n",
       "      <td>7.134349</td>\n",
       "    </tr>\n",
       "  </tbody>\n",
       "</table>\n",
       "<p>349 rows × 2 columns</p>\n",
       "</div>"
      ],
      "text/plain": [
       "       talent    album1\n",
       "0    6.871627  7.892303\n",
       "3    7.765254  9.145514\n",
       "5    7.876124  8.781971\n",
       "6    7.475648  8.970883\n",
       "8    6.037551  6.008424\n",
       "..        ...       ...\n",
       "983  7.945066  8.975181\n",
       "984  7.131638  7.518084\n",
       "993  7.061377  7.869644\n",
       "996  6.181466  6.114456\n",
       "997  6.490871  7.134349\n",
       "\n",
       "[349 rows x 2 columns]"
      ]
     },
     "execution_count": 52,
     "metadata": {},
     "output_type": "execute_result"
    }
   ],
   "source": [
    "# Drop all bands that published the first album with score less than 6\n",
    "bands = bands[bands['album1'] >= 6]\n",
    "bands"
   ]
  },
  {
   "cell_type": "code",
   "execution_count": 53,
   "metadata": {},
   "outputs": [
    {
     "data": {
      "text/html": [
       "<div>\n",
       "<style scoped>\n",
       "    .dataframe tbody tr th:only-of-type {\n",
       "        vertical-align: middle;\n",
       "    }\n",
       "\n",
       "    .dataframe tbody tr th {\n",
       "        vertical-align: top;\n",
       "    }\n",
       "\n",
       "    .dataframe thead th {\n",
       "        text-align: right;\n",
       "    }\n",
       "</style>\n",
       "<table border=\"1\" class=\"dataframe\">\n",
       "  <thead>\n",
       "    <tr style=\"text-align: right;\">\n",
       "      <th></th>\n",
       "      <th>talent</th>\n",
       "      <th>album1</th>\n",
       "      <th>album2</th>\n",
       "      <th>album3</th>\n",
       "    </tr>\n",
       "  </thead>\n",
       "  <tbody>\n",
       "    <tr>\n",
       "      <th>0</th>\n",
       "      <td>6.871627</td>\n",
       "      <td>7.892303</td>\n",
       "      <td>7.084291</td>\n",
       "      <td>8.017439</td>\n",
       "    </tr>\n",
       "    <tr>\n",
       "      <th>3</th>\n",
       "      <td>7.765254</td>\n",
       "      <td>9.145514</td>\n",
       "      <td>7.432829</td>\n",
       "      <td>8.644868</td>\n",
       "    </tr>\n",
       "    <tr>\n",
       "      <th>5</th>\n",
       "      <td>7.876124</td>\n",
       "      <td>8.781971</td>\n",
       "      <td>10.984694</td>\n",
       "      <td>7.621233</td>\n",
       "    </tr>\n",
       "    <tr>\n",
       "      <th>6</th>\n",
       "      <td>7.475648</td>\n",
       "      <td>8.970883</td>\n",
       "      <td>6.565937</td>\n",
       "      <td>6.463741</td>\n",
       "    </tr>\n",
       "    <tr>\n",
       "      <th>8</th>\n",
       "      <td>6.037551</td>\n",
       "      <td>6.008424</td>\n",
       "      <td>4.633153</td>\n",
       "      <td>7.472694</td>\n",
       "    </tr>\n",
       "    <tr>\n",
       "      <th>...</th>\n",
       "      <td>...</td>\n",
       "      <td>...</td>\n",
       "      <td>...</td>\n",
       "      <td>...</td>\n",
       "    </tr>\n",
       "    <tr>\n",
       "      <th>983</th>\n",
       "      <td>7.945066</td>\n",
       "      <td>8.975181</td>\n",
       "      <td>8.056505</td>\n",
       "      <td>7.954461</td>\n",
       "    </tr>\n",
       "    <tr>\n",
       "      <th>984</th>\n",
       "      <td>7.131638</td>\n",
       "      <td>7.518084</td>\n",
       "      <td>6.197034</td>\n",
       "      <td>5.477825</td>\n",
       "    </tr>\n",
       "    <tr>\n",
       "      <th>993</th>\n",
       "      <td>7.061377</td>\n",
       "      <td>7.869644</td>\n",
       "      <td>6.544235</td>\n",
       "      <td>8.941383</td>\n",
       "    </tr>\n",
       "    <tr>\n",
       "      <th>996</th>\n",
       "      <td>6.181466</td>\n",
       "      <td>6.114456</td>\n",
       "      <td>6.280540</td>\n",
       "      <td>7.115156</td>\n",
       "    </tr>\n",
       "    <tr>\n",
       "      <th>997</th>\n",
       "      <td>6.490871</td>\n",
       "      <td>7.134349</td>\n",
       "      <td>6.170022</td>\n",
       "      <td>7.240266</td>\n",
       "    </tr>\n",
       "  </tbody>\n",
       "</table>\n",
       "<p>349 rows × 4 columns</p>\n",
       "</div>"
      ],
      "text/plain": [
       "       talent    album1     album2    album3\n",
       "0    6.871627  7.892303   7.084291  8.017439\n",
       "3    7.765254  9.145514   7.432829  8.644868\n",
       "5    7.876124  8.781971  10.984694  7.621233\n",
       "6    7.475648  8.970883   6.565937  6.463741\n",
       "8    6.037551  6.008424   4.633153  7.472694\n",
       "..        ...       ...        ...       ...\n",
       "983  7.945066  8.975181   8.056505  7.954461\n",
       "984  7.131638  7.518084   6.197034  5.477825\n",
       "993  7.061377  7.869644   6.544235  8.941383\n",
       "996  6.181466  6.114456   6.280540  7.115156\n",
       "997  6.490871  7.134349   6.170022  7.240266\n",
       "\n",
       "[349 rows x 4 columns]"
      ]
     },
     "execution_count": 53,
     "metadata": {},
     "output_type": "execute_result"
    }
   ],
   "source": [
    "# Make an extended dataset with albums 2 and 3 (to avoid copy warnings)\n",
    "bandsExt = bands.loc[:]\n",
    "bandsExt['album2'] = np.random.normal(bands['talent'])\n",
    "bandsExt['album3'] = np.random.normal(bands['talent'])\n",
    "\n",
    "bandsExt"
   ]
  },
  {
   "cell_type": "markdown",
   "metadata": {},
   "source": [
    "##### 8 Analysis"
   ]
  },
  {
   "cell_type": "code",
   "execution_count": 54,
   "metadata": {
    "scrolled": false
   },
   "outputs": [
    {
     "name": "stdout",
     "output_type": "stream",
     "text": [
      "First generated album - Mean: 7.262574921904278\n",
      "Second generated album - Mean: 6.6903724272809795\n",
      "Third generated album - Mean: 6.7229828678728465\n"
     ]
    }
   ],
   "source": [
    "gen = [bandsExt['album1'], bandsExt['album2'], bandsExt['album3']]\n",
    "real = [first_album['score'], second_album['score'], third_album['score']]\n",
    "\n",
    "print('First generated album - Mean: {}'.format(bandsExt['album1'].mean()))\n",
    "print('Second generated album - Mean: {}'.format(bandsExt['album2'].mean()))\n",
    "print('Third generated album - Mean: {}'.format(bandsExt['album3'].mean()))"
   ]
  },
  {
   "cell_type": "code",
   "execution_count": 55,
   "metadata": {},
   "outputs": [
    {
     "name": "stdout",
     "output_type": "stream",
     "text": [
      "First album - Mean: 7.296548821548822\n",
      "Second album - Mean: 7.0420033670033675\n",
      "Third album - Mean: 7.053179487179488\n"
     ]
    }
   ],
   "source": [
    "#From task 7.2\n",
    "print('First album - Mean: {}'.format(first_album['score'].mean()))\n",
    "print('Second album - Mean: {}'.format(second_album['score'].mean()))\n",
    "print('Third album - Mean: {}'.format(third_album['score'].mean()))"
   ]
  },
  {
   "cell_type": "markdown",
   "metadata": {},
   "source": [
    "We can see that from the simulation that the average score for the second and third generated album the score is lower than for the first one. As we saw in task 7.2 The average score is lower for the second album and the third compared to the first one aswell.\n",
    "The difference between the second and third generated album is really small (just like the real one), and due to it being generated at random anyone of them can be higher or lower than the other."
   ]
  },
  {
   "cell_type": "code",
   "execution_count": 56,
   "metadata": {
    "scrolled": false
   },
   "outputs": [
    {
     "name": "stdout",
     "output_type": "stream",
     "text": [
      "Difference of the mean of album 1 from the actual data and the simulation is: 0.033973899644544225\n",
      "Difference of the mean of album 2 from the actual data and the simulation is: 0.351630939722388\n",
      "Difference of the mean of album 3 from the actual data and the simulation is: 0.33019661930664146\n"
     ]
    }
   ],
   "source": [
    "for i in range(len(gen)):\n",
    "    print(\"Difference of the mean of album {} from the actual data and the simulation is: {}\"\n",
    "          .format(i+1, real[i].mean()-gen[i].mean()))"
   ]
  },
  {
   "cell_type": "markdown",
   "metadata": {},
   "source": [
    "We can see that model is not that far off the score for the first album, but further and almost equal away for the second and third album. It does not seem like an too unreasonable model to make an hypothesis around.\n",
    "\n",
    "We think the idea of this simulation is to think of a third hypothesis: Out of all bands, some end up making a good first album (either due to luck or talent or both), but only the ones that made a good album in the first place continue to make more. Then we have the problem of survivorship bias, if a band with not that much talent, but a lot of luck for their first album just passed the threshhold for a good enough album to make one more, it is likely that the next one will be worse.\n",
    "But for the higher end of the spectrum, there are no bands that pull the disbribution higher up in score for the second album so the mean will be lower.\n",
    "Now if the condition for keeping on making albums is just that the first one was good, we will have all consecutive albums be around the mean of the second album. (This is what the model predicts) But in reality some bands that perform very bad on their second album may also stop producing, which increases the mean of the third album and continuing on depending on how many of the \"high talent\" bands that continue producing."
   ]
  }
 ],
 "metadata": {
  "kernelspec": {
   "display_name": "Python 3 (ipykernel)",
   "language": "python",
   "name": "python3"
  },
  "language_info": {
   "codemirror_mode": {
    "name": "ipython",
    "version": 3
   },
   "file_extension": ".py",
   "mimetype": "text/x-python",
   "name": "python",
   "nbconvert_exporter": "python",
   "pygments_lexer": "ipython3",
   "version": "3.9.1"
  },
  "pycharm": {
   "stem_cell": {
    "cell_type": "raw",
    "metadata": {
     "collapsed": false
    },
    "source": []
   }
  }
 },
 "nbformat": 4,
 "nbformat_minor": 1
}
